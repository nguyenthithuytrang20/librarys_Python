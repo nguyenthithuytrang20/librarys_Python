{
 "cells": [
  {
   "cell_type": "markdown",
   "metadata": {
    "colab_type": "text",
    "deletable": false,
    "id": "Y2OUp3hR29W9"
   },
   "source": [
    "\n",
    "<img src ='Pic\\logo_CNTT.png' width='400px'>\n",
    "<div align=\"center\">\n",
    "<h2> MÔN HỌC: KHOA HỌC DỮ LIỆU (7080509) </h2>\n",
    "</div>\n",
    "\n",
    "---\n",
    "<center>\n",
    "<h1> CHƯƠNG 4: MỘT SỐ THƯ VIỆN QUAN TRỌNG CHO KHOA HỌC DỮ LIỆU - PHẦN 2 (NUMPY)</h1>\n",
    "</center>\n",
    "\n",
    "---\n",
    "\n",
    "**NỘI DUNG BÀI HỌC:**\n",
    "1. **Giới thiệu thư viện Numpy**\n",
    "2. **Cách tạo vector, ma trận (matrix)**\n",
    "    * Tạo mảng 1D, 2D, 3D \n",
    "    * Tạo mảng với các hàm có sẵn \n",
    "    * Tạo mảng từ file dữ liệu\n",
    "3. **Thao tác cơ bản với mảng**\n",
    "    * Quan sát thuộc tính mảng\n",
    "    * Chuyển đổi kiểu dữ liệu \n",
    "    * Truy cập phần tử\n",
    "4. **Tính toán các đặc trưng thống kê trong mảng**\n",
    "    * Min, Max, Sum\n",
    "    * Mean, Median, Mode, Range\n",
    "    * Std\n",
    "5. Hệ số tương quan (Corrcoef)\n",
    "6. Chuyển đổi Vector, Ma trận\n",
    "\n",
    "---\n",
    "*Copyright: Nguyễn Thị Thùy Trang 2021050885 DCCTHT65B*"
   ]
  },
  {
   "cell_type": "markdown",
   "metadata": {},
   "source": [
    "# Thực hành số 1:\n",
    "---\n",
    "**YÊU CẦU 1: Học viên tạo một ma trận vuông cấp n, bao gồm các phần tử, là những số nguyên ngẫu nhiên trong khoảng [0-100]**"
   ]
  },
  {
   "cell_type": "code",
   "execution_count": 2,
   "metadata": {},
   "outputs": [
    {
     "name": "stdout",
     "output_type": "stream",
     "text": [
      "Nhập vào cấp của ma trận vuông: 12\n",
      "[[ 23   2  64  39  27  83  74  76  50  15  48  11]\n",
      " [ 37  62  61  95  72  41  84  29  50  17  90  32]\n",
      " [ 35  96  80  65  14  86  66   5  66  39  79  34]\n",
      " [ 35  58  80  58  17  77  15  63  20  55  88  16]\n",
      " [ 78  45  69  57  90  62  63   4  47  99  69  12]\n",
      " [ 50  51  45   8  50  28  61   8  52  22  44  93]\n",
      " [100   7  62  72  55  71  64  90  32  26  74  32]\n",
      " [ 45  73  38  72  64  17  75  89  63  41  98  95]\n",
      " [ 89  73  82  49  89  56  75  94  19   9 100  22]\n",
      " [ 74  97  76  18  63  91  29  28  31  67  41  72]\n",
      " [ 90  63  74 100  63  72   6   1  21  41  92   6]\n",
      " [ 47  52  71  36  44  33  55  20  77  35  30  51]]\n"
     ]
    }
   ],
   "source": [
    "#{HỌC VIÊN VIẾT CODE VÀO ĐÂY}\n",
    "import numpy as np\n",
    "while(True):\n",
    "    n=int(input('Nhập vào cấp của ma trận vuông: '))\n",
    "    if n>0:\n",
    "        break\n",
    "array_random=np.random.randint(0, 101, (n,n))\n",
    "print(array_random)\n"
   ]
  },
  {
   "cell_type": "markdown",
   "metadata": {},
   "source": [
    "**YÊU CẦU 2: Sử dụng ma trận tạo được trong yêu cầu 1, Học viên tạo 2 vector như sau:**\n",
    "\n",
    "**v_chinh:** bao gồm các phần tử nằm trên đường chéo chính của ma trận.\n",
    "\n",
    "**V_phu:** bao gồm các phần tử nằm trên đường chéo phụ của ma trận"
   ]
  },
  {
   "cell_type": "code",
   "execution_count": 3,
   "metadata": {
    "scrolled": true
   },
   "outputs": [
    {
     "name": "stdout",
     "output_type": "stream",
     "text": [
      "Đường chéo chính của ma trận:  [23 62 80 58 90 28 64 89 19 67 92 51]\n"
     ]
    }
   ],
   "source": [
    "#{HỌC VIÊN VIẾT CODE VÀO ĐÂY}\n",
    "\n",
    "# Các phần tử trên đường chéo chính của ma trận\n",
    "v_chinh=np.diag(array_random)\n",
    "print('Đường chéo chính của ma trận: ',v_chinh)\n"
   ]
  },
  {
   "cell_type": "code",
   "execution_count": 4,
   "metadata": {},
   "outputs": [
    {
     "name": "stdout",
     "output_type": "stream",
     "text": [
      "Đường chéo phụ của ma trận là:  [11 90 39 20  4 61 71 64 49 76 63 47]\n"
     ]
    }
   ],
   "source": [
    "# Các phần tử trên đường chéo phụ của ma trận\n",
    "ds=[]\n",
    "for i in range (n):\n",
    "    for j in range(n):\n",
    "        if(i+j==n-1):\n",
    "            ds.append(array_random[i,j])\n",
    "v_phu=np.array(ds)\n",
    "print('Đường chéo phụ của ma trận là: ',v_phu)\n",
    "            "
   ]
  },
  {
   "cell_type": "markdown",
   "metadata": {},
   "source": [
    "**YÊU CẦU 3: Nhập vào số nguyên x bất kỳ trong khoảng (0-100), đếm xem có bao nhiêu phần tử trong ma trận sinh ra ở yêu cầu 1 có giá trị bằng x, lớn hơn x, nhỏ hơn x và hiển thị kết quả:**"
   ]
  },
  {
   "cell_type": "code",
   "execution_count": 5,
   "metadata": {},
   "outputs": [
    {
     "name": "stdout",
     "output_type": "stream",
     "text": [
      "Nhập vào giá trị muốn kiểm tra: 7\n",
      "Số phần tử bằng 7 là: 1\n",
      "Số phần tử lơn hơn 7 là: 137\n",
      "Số phần tử nhỏ hơn 7 là: 6\n"
     ]
    }
   ],
   "source": [
    "\n",
    "dem_bang=0\n",
    "dem_lon=0\n",
    "dem_nho=0\n",
    "value=int(input('Nhập vào giá trị muốn kiểm tra: '))\n",
    "for i in range(n):\n",
    "    for j in range (n):\n",
    "        if(array_random[i,j]==value):\n",
    "            dem_bang+=1\n",
    "        elif(array_random[i,j]>value):\n",
    "            dem_lon+=1\n",
    "        else:\n",
    "            dem_nho+=1\n",
    "print('Số phần tử bằng',value,'là:',dem_bang)\n",
    "print('Số phần tử lơn hơn',value, 'là:', dem_lon)\n",
    "print('Số phần tử nhỏ hơn', value,'là:',dem_nho)\n"
   ]
  },
  {
   "cell_type": "code",
   "execution_count": 20,
   "metadata": {},
   "outputs": [
    {
     "name": "stdout",
     "output_type": "stream",
     "text": [
      "Nhập giá trị muốn kiểm tra: 6\n",
      "Số giá trị bằng 6 là: 2\n",
      "Số giá trị lớn hơn 6 là: 138\n",
      "Số giá trị nhỏ hơn 6 là: 4\n"
     ]
    }
   ],
   "source": [
    "x=int(input('Nhập giá trị muốn kiểm tra: '))\n",
    "print('Số giá trị bằng',x,'là:',len(array_random[array_random==x]))\n",
    "print('Số giá trị lớn hơn',x,'là:',len(array_random[array_random>x]))\n",
    "print('Số giá trị nhỏ hơn',x,'là:',len(array_random[array_random<x]))"
   ]
  },
  {
   "cell_type": "code",
   "execution_count": 24,
   "metadata": {},
   "outputs": [
    {
     "name": "stdout",
     "output_type": "stream",
     "text": [
      "Nhập vào giá trị cần kiểm tra: 6\n",
      "[[ 23   2  64  39  27  83  74  76  50  15  48  11]\n",
      " [ 37  62  61  95  72  41  84  29  50  17  90  32]\n",
      " [ 35  96  80  65  14  86  66   5  66  39  79  34]\n",
      " [ 35  58  80  58  17  77  15  63  20  55  88  16]\n",
      " [ 78  45  69  57  90  62  63   4  47  99  69  12]\n",
      " [ 50  51  45   8  50  28  61   8  52  22  44  93]\n",
      " [100   7  62  72  55  71  64  90  32  26  74  32]\n",
      " [ 45  73  38  72  64  17  75  89  63  41  98  95]\n",
      " [ 89  73  82  49  89  56  75  94  19   9 100  22]\n",
      " [ 74  97  76  18  63  91  29  28  31  67  41  72]\n",
      " [ 90  63  74 100  63  72   6   1  21  41  92   6]\n",
      " [ 47  52  71  36  44  33  55  20  77  35  30  51]]\n",
      "(array([10, 10], dtype=int64), array([ 6, 11], dtype=int64))\n",
      "Số phần tử tìm được bằng  6  là: 2\n"
     ]
    }
   ],
   "source": [
    "x=int(input('Nhập vào giá trị cần kiểm tra: '))\n",
    "kt1=np.where(array_random==x)\n",
    "print(array_random)\n",
    "print (kt1)\n",
    "print('Số phần tử tìm được bằng ',x,' là:',kt1[1].size)"
   ]
  },
  {
   "cell_type": "code",
   "execution_count": 21,
   "metadata": {},
   "outputs": [
    {
     "name": "stdout",
     "output_type": "stream",
     "text": [
      "Nhập vào giá trị cần kiểm tra: 6\n",
      "Số phần tử tìm được bằng  6  là: 2\n",
      "Số phần tử tìm được lớn hơn  6  là: 138\n",
      "Số phần tử tìm được nhỏ hơn  6  là: 4\n"
     ]
    }
   ],
   "source": [
    "x=int(input('Nhập vào giá trị cần kiểm tra: '))\n",
    "kt1=np.where(array_random==x)\n",
    "'''print (kt1)'''\n",
    "kt2=np.where(array_random>x)\n",
    "'''print(kt2)'''\n",
    "kt3=np.where(array_random<x)\n",
    "'''print(kt3)'''\n",
    "print('Số phần tử tìm được bằng ',x,' là:',kt1[1].size)\n",
    "print('Số phần tử tìm được lớn hơn ',x,' là:',kt2[1].size)\n",
    "print('Số phần tử tìm được nhỏ hơn ',x,' là:',kt3[1].size)\n"
   ]
  },
  {
   "cell_type": "markdown",
   "metadata": {},
   "source": [
    "# Thực hành số 2:\n",
    "---\n",
    "**YÊU CẦU 1: Sử dụng dữ liệu bảng điểm của lớp 2A. Cho biết:**\n",
    "\n",
    "1. ĐTB của từng học sinh trong lớp.\n",
    "2. Học sinh có điểm TB cao nhất.\n",
    "3. Học sinh có điểm trung bình thấp nhất\n"
   ]
  },
  {
   "cell_type": "code",
   "execution_count": 38,
   "metadata": {},
   "outputs": [
    {
     "name": "stdout",
     "output_type": "stream",
     "text": [
      "bảng điểm\n",
      " [[ 2  4  3  7  5  6  5  6  8  9  3  6  1  9  8  7  3  3  9  5]\n",
      " [ 3  5  3 10  9  1  9  8  3  1  6  0  7 10  8  5  2  7  7  1]\n",
      " [ 1 10  4  9  6  9  0  2  3  1  8  6  8  4  2  9  2  9  5  0]\n",
      " [ 6  3  0  8  3  7  7  2  6  8  7  3  4  1  5  9  1  0  2 10]\n",
      " [ 4  3  6  7  4  5  2  6  9  4  3  9  9  4  5  7  2 10  9  4]\n",
      " [ 2  3  8 10  4  5  9  5  4  7 10  1  8  4  3  9  6  3  6  7]\n",
      " [ 9  9  1 10  9  9  5  9  6  3  9  5  1 10  7 10  2  8  8  1]\n",
      " [ 8  8  7  8  6  7  7  8  6  7  8  6  7  6  8  8  7  6  8  8]\n",
      " [ 6  7  8  9 10  9  2  2  6  1 10  9  6  3  9  5  9  8  1  1]\n",
      " [ 7  8  7  8  6 10 10  6  8 10  8  9  8  8  5 10  8  7  8  7]]\n",
      "\n",
      "Điểm trung bình của từng học sinh trong lớp:\n",
      " [4.8 6.  4.7 8.6 6.2 6.8 5.6 5.4 5.9 5.1 7.2 5.4 5.9 5.9 6.  7.9 4.2 6.1\n",
      " 6.3 4.4]\n",
      "\n",
      "ĐTB của từng học sinh trong lớp\n",
      "-------\n",
      "Điểm trung bình của học sinh thứ  0 là: 4.8\n",
      "Điểm trung bình của học sinh thứ  1 là: 6.0\n",
      "Điểm trung bình của học sinh thứ  2 là: 4.7\n",
      "Điểm trung bình của học sinh thứ  3 là: 8.6\n",
      "Điểm trung bình của học sinh thứ  4 là: 6.2\n",
      "Điểm trung bình của học sinh thứ  5 là: 6.8\n",
      "Điểm trung bình của học sinh thứ  6 là: 5.6\n",
      "Điểm trung bình của học sinh thứ  7 là: 5.4\n",
      "Điểm trung bình của học sinh thứ  8 là: 5.9\n",
      "Điểm trung bình của học sinh thứ  9 là: 5.1\n",
      "Điểm trung bình của học sinh thứ  10 là: 7.2\n",
      "Điểm trung bình của học sinh thứ  11 là: 5.4\n",
      "Điểm trung bình của học sinh thứ  12 là: 5.9\n",
      "Điểm trung bình của học sinh thứ  13 là: 5.9\n",
      "Điểm trung bình của học sinh thứ  14 là: 6.0\n",
      "Điểm trung bình của học sinh thứ  15 là: 7.9\n",
      "Điểm trung bình của học sinh thứ  16 là: 4.2\n",
      "Điểm trung bình của học sinh thứ  17 là: 6.1\n",
      "Điểm trung bình của học sinh thứ  18 là: 6.3\n",
      "Điểm trung bình của học sinh thứ  19 là: 4.4\n"
     ]
    }
   ],
   "source": [
    "#{HỌC VIÊN VIẾT CODE VÀO ĐÂY}\n",
    "import numpy as np\n",
    "diem_2a=np.loadtxt('Data/Diem_2A.txt',delimiter=',',dtype=np.int8)\n",
    "print('bảng điểm\\n',diem_2a)\n",
    "diem_tb=diem_2a.mean(axis=0)\n",
    "print('\\nĐiểm trung bình của từng học sinh trong lớp:\\n',diem_tb)\n",
    "print(\"\\nĐTB của từng học sinh trong lớp\\n-------\")\n",
    "for i in range(0,diem_tb.size):\n",
    "    print(\"Điểm trung bình của học sinh thứ \",i,\"là:\",diem_tb[i])\n",
    "\n"
   ]
  },
  {
   "cell_type": "code",
   "execution_count": 42,
   "metadata": {},
   "outputs": [
    {
     "name": "stdout",
     "output_type": "stream",
     "text": [
      "Học sinh có điểm TB cao nhất: 8.6\n",
      "Của học sinh thứ: 3\n",
      "Bảng điểm của học sinh là:  [ 7 10  9  8  7 10 10  8  9  8]\n",
      "\n",
      "\t---------\n",
      "\n",
      "Học sinh có điểm trung bình thấp nhất 4.2\n",
      "Của học sinh thứ 16\n",
      "Bảng điểm của học sinh là:  [3 2 2 1 2 6 2 7 9 8]\n"
     ]
    }
   ],
   "source": [
    "# hs điểm tb cao nhất, vị trí của hs đó, bảng điểm của học sinh đó\n",
    "point_max=diem_tb.max()\n",
    "print(\"Học sinh có điểm TB cao nhất:\",point_max)\n",
    "#vị trí\n",
    "for i in range(0,diem_tb.size):\n",
    "    if diem_tb[i]==point_max:\n",
    "        print('Của học sinh thứ:',i)\n",
    "        # bảng điểm\n",
    "        print('Bảng điểm của học sinh là: ', diem_2a[:,i])\n",
    "\n",
    "\n",
    "point_min=diem_tb.min()\n",
    "print('\\n\\t---------\\n\\nHọc sinh có điểm trung bình thấp nhất',point_min)\n",
    "for j in range(0,diem_tb.size):\n",
    "    if diem_tb[j]==point_min:\n",
    "        print(\"Của học sinh thứ\",j)\n",
    "        # bảng điểm\n",
    "        print('Bảng điểm của học sinh là: ',diem_2a[:,j])"
   ]
  },
  {
   "cell_type": "markdown",
   "metadata": {},
   "source": [
    "**YÊU CẦU 2: Sử dụng dữ liệu bảng điểm của lớp 2A. Cho biết:**\n",
    "\n",
    "1. ĐTB của từng môn học.\n",
    "2. Môn học có điểm TB cao nhất.\n",
    "3. Môn học có điểm trung bình thấp nhất"
   ]
  },
  {
   "cell_type": "code",
   "execution_count": 69,
   "metadata": {},
   "outputs": [
    {
     "name": "stdout",
     "output_type": "stream",
     "text": [
      "Điểm Tb môn  0 là: 5.45\n",
      "Điểm Tb môn  1 là: 5.25\n",
      "Điểm Tb môn  2 là: 4.9\n",
      "Điểm Tb môn  3 là: 4.6\n",
      "Điểm Tb môn  4 là: 5.6\n",
      "Điểm Tb môn  5 là: 5.7\n",
      "Điểm Tb môn  6 là: 6.55\n",
      "Điểm Tb môn  7 là: 7.2\n",
      "Điểm Tb môn  8 là: 6.05\n",
      "Điểm Tb môn  9 là: 7.9\n"
     ]
    }
   ],
   "source": [
    "#{HỌC VIÊN VIẾT CODE VÀO ĐÂY}\n",
    "#ĐTB của từng môn học\n",
    "tb_theoMon=diem_2a.mean(axis=1)\n",
    "for i in range (0,tb_theoMon.size):\n",
    "    print(\"Điểm Tb môn \",i,'là:',tb_theoMon[i])\n",
    "\n",
    "\n",
    "\n"
   ]
  },
  {
   "cell_type": "code",
   "execution_count": null,
   "metadata": {},
   "outputs": [],
   "source": []
  },
  {
   "cell_type": "code",
   "execution_count": 50,
   "metadata": {},
   "outputs": [
    {
     "name": "stdout",
     "output_type": "stream",
     "text": [
      "Môn học có điểm TB cao nhất 7.9\n",
      "Vị trí:  9\n",
      "Bảng điểm của môn đó là: [ 7  8  7  8  6 10 10  6  8 10  8  9  8  8  5 10  8  7  8  7]\n",
      "\n",
      "Môn học có điểm TB thấp nhất 4.6\n",
      "Vị trí:  3\n",
      "Bảng điểm của môn đó là: [ 6  3  0  8  3  7  7  2  6  8  7  3  4  1  5  9  1  0  2 10]\n"
     ]
    }
   ],
   "source": [
    "# Môn học có điểm TB cao nhất.\n",
    "point_max2=tb_theoMon.max()\n",
    "print('Môn học có điểm TB cao nhất',point_max2 )\n",
    "for i in range(0,tb_theoMon.size):\n",
    "    if tb_theoMon[i]==point_max2:\n",
    "        print ('Vị trí: ',i)\n",
    "        print ('Bảng điểm của môn đó là:',diem_2a[i,:])\n",
    "        \n",
    "# Môn học có điểm trung bình thấp nhất\n",
    "point_min2=tb_theoMon.min()\n",
    "print('\\nMôn học có điểm TB thấp nhất',point_min2 )\n",
    "for j in range(0,tb_theoMon.size):\n",
    "    if tb_theoMon[j]==point_min2:\n",
    "        print ('Vị trí: ',j)\n",
    "        print ('Bảng điểm của môn đó là:',diem_2a[j,:])"
   ]
  },
  {
   "cell_type": "markdown",
   "metadata": {},
   "source": [
    "#### **YÊU CẦU 3: Sử dụng dữ liệu bảng điểm của lớp 2A. Cho biết:**\n",
    "---\n",
    "1. Sinh viên có điểm đồng đều nhất tất cả các môn. Sinh viên có điểm các môn lệch nhất trong lớp.\n",
    "2. Môn học có điểm đồng đều nhất. Môn học có điểm chênh lệch nhất.\n",
    "\n"
   ]
  },
  {
   "cell_type": "code",
   "execution_count": 54,
   "metadata": {},
   "outputs": [
    {
     "name": "stdout",
     "output_type": "stream",
     "text": [
      "[[ 2  4  3  7  5  6  5  6  8  9  3  6  1  9  8  7  3  3  9  5]\n",
      " [ 3  5  3 10  9  1  9  8  3  1  6  0  7 10  8  5  2  7  7  1]\n",
      " [ 1 10  4  9  6  9  0  2  3  1  8  6  8  4  2  9  2  9  5  0]\n",
      " [ 6  3  0  8  3  7  7  2  6  8  7  3  4  1  5  9  1  0  2 10]\n",
      " [ 4  3  6  7  4  5  2  6  9  4  3  9  9  4  5  7  2 10  9  4]\n",
      " [ 2  3  8 10  4  5  9  5  4  7 10  1  8  4  3  9  6  3  6  7]\n",
      " [ 9  9  1 10  9  9  5  9  6  3  9  5  1 10  7 10  2  8  8  1]\n",
      " [ 8  8  7  8  6  7  7  8  6  7  8  6  7  6  8  8  7  6  8  8]\n",
      " [ 6  7  8  9 10  9  2  2  6  1 10  9  6  3  9  5  9  8  1  1]\n",
      " [ 7  8  7  8  6 10 10  6  8 10  8  9  8  8  5 10  8  7  8  7]]\n"
     ]
    }
   ],
   "source": [
    "print(diem_2a)"
   ]
  },
  {
   "cell_type": "code",
   "execution_count": 105,
   "metadata": {},
   "outputs": [
    {
     "name": "stdout",
     "output_type": "stream",
     "text": [
      "độ lệch chuẩn điểm của các sinh viên\n",
      " [2.63818119 2.56904652 2.75862284 1.11355287 2.27156334 2.56124969\n",
      " 3.23109888 2.4979992  1.97230829 3.33016516 2.4        3.0724583\n",
      " 2.77308492 3.01496269 2.23606798 1.75783958 2.8213472  2.9816103\n",
      " 2.68514432 3.35261092]\n",
      "\n",
      "Học sinh học đồng đều nhất: 3\n",
      "Bảng điểm của học sinh học đông đều nhất: [ 7 10  9  8  7 10 10  8  9  8]\n",
      "---------------------------\n",
      "Học sinh học lệch các môn nhất: 19\n",
      "Bảng điểm của học sinh học lệch nhất: [ 5  1  0 10  4  7  1  8  1  7]\n"
     ]
    }
   ],
   "source": [
    "#{HỌC VIÊN VIẾT CODE VÀO ĐÂY}\n",
    "\n",
    "# dựa vào độ lệch chuẩn điểm của các sinh viên\n",
    "sv=diem_2a.std(axis=0)\n",
    "print('độ lệch chuẩn điểm của các sinh viên\\n',sv)\n",
    "# Sinh viên có điểm đồng đều nhất tất cả các môn\n",
    "sv_hocDeu=sv.min()\n",
    "for i in range(0,sv.size):\n",
    "    if sv[i]==sv.min():\n",
    "        print('\\nHọc sinh học đồng đều nhất:',i)\n",
    "        print('Bảng điểm của học sinh học đông đều nhất:',diem_2a[:,i])\n",
    "print('---------------------------')\n",
    "# Sinh viên có điểm các môn lệch nhất \n",
    "for j in range(0,sv.size):\n",
    "    if sv[j]==sv.max():\n",
    "        print('Học sinh học lệch các môn nhất:',j)\n",
    "        print('Bảng điểm của học sinh học lệch nhất:',diem_2a[:,j])\n",
    "\n",
    "\n"
   ]
  },
  {
   "cell_type": "code",
   "execution_count": 104,
   "metadata": {},
   "outputs": [
    {
     "name": "stdout",
     "output_type": "stream",
     "text": [
      "Độ lệch điểm các môn theo môn học:\n",
      " [2.39739442 3.20741329 3.34514574 3.02324329 2.47790234 2.64764046\n",
      " 3.21675302 0.81240384 3.18551409 1.37477271]\n",
      "\n",
      "Môn học học đồng đều nhất: 7\n",
      "Bảng điểm của môn học: [8 8 7 8 6 7 7 8 6 7 8 6 7 6 8 8 7 6 8 8]\n",
      "---------------------\n",
      "Môn học học đồng đều nhất: 2\n",
      "Bảng điểm của môn học: [ 1 10  4  9  6  9  0  2  3  1  8  6  8  4  2  9  2  9  5  0]\n"
     ]
    }
   ],
   "source": [
    "#{HỌC VIÊN VIẾT CODE VÀO ĐÂY}\n",
    "# Dựa vào độ lệch chuẩn điểm của các môn học\n",
    "subject=diem_2a.std(axis=1)\n",
    "print('Độ lệch điểm các môn theo môn học:\\n',subject )\n",
    "# Môn học có điểm đồng đều nhất\n",
    "for i in range(0,subject.size):\n",
    "    if subject[i]==subject.min():\n",
    "        print('\\nMôn học học đồng đều nhất:',i)\n",
    "        print('Bảng điểm của môn học:',diem_2a[i,:])\n",
    "print('---------------------')\n",
    "# Môn học có điểm chênh lệch nhất.\n",
    "for j in range(0,subject.size):\n",
    "    if subject[j]==subject.max():\n",
    "        print('Môn học học đồng đều nhất:',j)\n",
    "        print('Bảng điểm của môn học:',diem_2a[j,:])\n",
    "\n",
    "\n"
   ]
  },
  {
   "cell_type": "code",
   "execution_count": null,
   "metadata": {},
   "outputs": [],
   "source": []
  },
  {
   "cell_type": "markdown",
   "metadata": {},
   "source": [
    "# Ví dụ:\n",
    "---\n",
    "**Yêu cầu 1: Xác định hệ số tương quan giữa diện tích (1)  và giá bán nhà theo bảng số liệu:**\n",
    "<img src = 'Pic\\sl1.png' width='350px'>\n"
   ]
  },
  {
   "cell_type": "markdown",
   "metadata": {},
   "source": [
    "**Yêu cầu 2: Xác định hệ số tương quan giữa Khoảng cách từ trung tâm thành phố (2) và giá bán nhà theo bảng số liệu:**\n",
    "<img src = 'Pic\\sl2.png' width='350px'>"
   ]
  },
  {
   "cell_type": "markdown",
   "metadata": {},
   "source": [
    "### Yêu cầu 1"
   ]
  },
  {
   "cell_type": "code",
   "execution_count": 112,
   "metadata": {},
   "outputs": [
    {
     "name": "stdout",
     "output_type": "stream",
     "text": [
      "[[1460.  2108.  1743.  1499.  1864.  2391.  1977.  1610.  1530.  1759.\n",
      "  1821.  2216. ]\n",
      " [ 288.7  309.3  301.4  291.1  302.4  314.4  305.4  297.   292.4  298.2\n",
      "   304.3  311.7]]\n",
      "<class 'numpy.ndarray'>\n",
      "Hệ số tương quan: \n",
      " [[1.         0.97670189]\n",
      " [0.97670189 1.        ]]\n"
     ]
    }
   ],
   "source": [
    "#{HỌC VIÊN VIẾT CODE VÀO ĐÂY}\n",
    "import numpy as np\n",
    "#corrcoef: Hệ số tương quan\n",
    "\n",
    "#diện tích\n",
    "square = np.array([1460, 2108, 1743, 1499, 1864, 2391, 1977, 1610, 1530, 1759, 1821, 2216])\n",
    "\n",
    "#Giá\n",
    "price  = np.array([288.700, 309.300, 301.400, 291.100 ,302.400, 314.400, 305.400, 297.000, 292.400, 298.200, 304.300, 311.700])\n",
    "\n",
    "print(np.asarray((square,price)))\n",
    "\n",
    "#Tính hệ số tương quan\n",
    "he_so_tq = np.corrcoef(square,price)\n",
    "print(type(he_so_tq))\n",
    "print('Hệ số tương quan: \\n', he_so_tq)\n",
    "\n",
    "\n",
    "\n"
   ]
  },
  {
   "cell_type": "code",
   "execution_count": 108,
   "metadata": {},
   "outputs": [
    {
     "data": {
      "image/png": "[encoded data removed]",
      "text/plain": [
       "<Figure size 504x288 with 1 Axes>"
      ]
     },
     "metadata": {
      "needs_background": "light"
     },
     "output_type": "display_data"
    }
   ],
   "source": [
    "import matplotlib.pyplot as plt\n",
    "plt.figure(figsize=(7,4))\n",
    "plt.scatter(square, price, marker='o', color='b')\n",
    "\n",
    "plt.xlabel('Diện tích)', fontsize=10)\n",
    "plt.ylabel('Giá bán', fontsize=10)\n",
    "plt.title('BIỂU ĐỒ THỂ HIỆN MỐI TƯƠNG QUAN GIỮA DIỆN TÍCH VÀ GIÁ BÁN')\n",
    "\n",
    "plt.grid(True)\n",
    "plt.show()"
   ]
  },
  {
   "cell_type": "code",
   "execution_count": 117,
   "metadata": {},
   "outputs": [
    {
     "name": "stdout",
     "output_type": "stream",
     "text": [
      "[[  2.6   0.8   1.    0.6   1.5   2.    3.4   1.2   3.6   1.7]\n",
      " [214.  367.  280.  362.  200.  190.  236.  244.  128.  165. ]]\n",
      "Hệ số tương quan\n",
      " [[ 1.         -0.70619196]\n",
      " [-0.70619196  1.        ]]\n"
     ]
    }
   ],
   "source": [
    "import numpy as np\n",
    "\n",
    "# Khoảng cách\n",
    "Distence=np.array([2.6, 0.8, 1.0, 0.6, 1.5, 2.0, 3.4, 1.2, 3.6, 1.7])\n",
    "# Giá\n",
    "price=np.array([214, 367, 280,362,200, 190, 236, 244, 128, 165])\n",
    "\n",
    "print(np.asarray((Distence,price)))\n",
    "\n",
    "# tính hệ số tương quan\n",
    "hstq=np.corrcoef(Distence,price)\n",
    "print('Hệ số tương quan\\n',hstq)\n"
   ]
  },
  {
   "cell_type": "code",
   "execution_count": 118,
   "metadata": {},
   "outputs": [
    {
     "data": {
      "image/png": "[encoded data removed]",
      "text/plain": [
       "<Figure size 504x288 with 1 Axes>"
      ]
     },
     "metadata": {
      "needs_background": "light"
     },
     "output_type": "display_data"
    }
   ],
   "source": [
    "import matplotlib.pyplot as plt\n",
    "plt.figure(figsize=(7,4))\n",
    "plt.scatter(Distence, price, marker='o', color='b')\n",
    "\n",
    "plt.xlabel('Khoảng cách)', fontsize=10)\n",
    "plt.ylabel('Giá bán', fontsize=10)\n",
    "plt.title('BIỂU ĐỒ THỂ HIỆN MỐI TƯƠNG QUAN GIỮA KHOẢNG CÁCH VÀ GIÁ BÁN')\n",
    "\n",
    "plt.grid(True)\n",
    "plt.show()"
   ]
  },
  {
   "cell_type": "code",
   "execution_count": null,
   "metadata": {},
   "outputs": [],
   "source": []
  },
  {
   "cell_type": "markdown",
   "metadata": {},
   "source": [
    "## Thực hành số 4:\n",
    "---\n",
    "Mô tả file dữ liệu: Temp.txt (có trong thư mục Data)\n",
    "* File dữ liệu lưu trữ nhiệt độ (oC) của 6 thành phố lớn dọc theo nước Việt Nam là: Hà Nội, Vinh, Đà Nẵng, Nha trang, Hồ Chính Minh và Cà Mau\n",
    "* Thời gian từ 0h ngày 15/09/2019 tới 23h ngày 22/09/2019\n",
    "\n",
    "*Học viên xem mô tả chi tiết file dữ liệu trong slide Practice4*"
   ]
  },
  {
   "cell_type": "markdown",
   "metadata": {},
   "source": [
    "**Yêu cầu 4.1**: Đọc dữ liệu lưu trữ trong file Temp.txt vào biến mảng data_temp, cho biết kích thước, số chiều, kiểu dữ liệu và số phần tử của biến data_temp.\n"
   ]
  },
  {
   "cell_type": "code",
   "execution_count": 50,
   "metadata": {},
   "outputs": [
    {
     "name": "stdout",
     "output_type": "stream",
     "text": [
      "kích thước:  (192, 6)\n",
      "Số chiều: 2\n",
      "kiểu dữ liệu: <class 'numpy.ndarray'>\n",
      "Kiểu dữ liệu các phần tử trong mảng: float64\n",
      "Số phần tử: 1152\n",
      "[[25.65 24.79 24.01 25.06 25.48 24.97]\n",
      " [25.31 24.21 24.02 24.93 25.16 24.83]\n",
      " [25.05 23.73 23.89 24.79 24.8  24.55]\n",
      " ...\n",
      " [24.81 24.47 23.4  25.86 25.05 25.29]\n",
      " [23.97 24.22 22.95 25.74 24.92 24.87]\n",
      " [22.84 23.99 22.59 25.5  24.77 24.57]]\n"
     ]
    }
   ],
   "source": [
    "#{HỌC VIÊN VIẾT CODE VÀO ĐÂY}\n",
    "import numpy as np\n",
    "data_temp=np.loadtxt('Data/Temp.txt')\n",
    "data_temp\n",
    "#Đọc dữ liệu lưu trữ trong file Temp.txt vào biến mảng data_temp, cho biết kích thước, số chiều, kiểu dữ liệu và số phần tử của biến data_temp\n",
    "print('kích thước: ',data_temp.shape)\n",
    "print('Số chiều:',data_temp.ndim)\n",
    "print('kiểu dữ liệu:',type(data_temp))\n",
    "print('Kiểu dữ liệu các phần tử trong mảng:',data_temp.dtype)\n",
    "print('Số phần tử:', data_temp.size)\n",
    "print(data_temp)\n",
    "\n"
   ]
  },
  {
   "cell_type": "code",
   "execution_count": null,
   "metadata": {},
   "outputs": [],
   "source": []
  },
  {
   "cell_type": "markdown",
   "metadata": {},
   "source": [
    "**Yêu cầu 4.2**: Tìm nhiệt độ cao nhất (Max) – Thấp nhất (Min) – Nhiệt độ trung bình của cả tập dữ liệu.\n",
    "\n",
    "**Yêu cầu 4.3**: Tìm nhiệt độ cao nhất (Max) – Thấp nhất (Min) – Nhiệt độ trung bình của từng thành phố và hiển thị kết quả.\n"
   ]
  },
  {
   "cell_type": "code",
   "execution_count": 24,
   "metadata": {},
   "outputs": [
    {
     "name": "stdout",
     "output_type": "stream",
     "text": [
      "\t-------THỐNG KÊ CHUNG CHO 6 THÀNH PHỐ--------\n",
      "Nhiệt độ cao nhất:  33.45\n",
      "Nhiệt độ thấp nhất: 20.93\n",
      "Nhiệt độ trung bình của tập dữ liệu: 26.50222222222222\n"
     ]
    }
   ],
   "source": [
    "#Tìm nhiệt độ cao nhất (Max) – Thấp nhất (Min) – Nhiệt độ trung bình của cả tập dữ liệu\n",
    "print('\\t-------THỐNG KÊ CHUNG CHO 6 THÀNH PHỐ--------')\n",
    "print('Nhiệt độ cao nhất: ',data_temp.max())\n",
    "print('Nhiệt độ thấp nhất:', data_temp.min())\n",
    "print('Nhiệt độ trung bình của tập dữ liệu:', data_temp.mean())"
   ]
  },
  {
   "cell_type": "code",
   "execution_count": 14,
   "metadata": {},
   "outputs": [
    {
     "name": "stdout",
     "output_type": "stream",
     "text": [
      "1) Nhiệt độ HÀ NỘI\n",
      "Nhiệt độ cao nhất: 33.45\n",
      "Nhiệt độ thấp nhất: 21.68\n",
      "Nhiệt độ trung bình của HÀ NỘI: 27.71229166666667\n"
     ]
    }
   ],
   "source": [
    "#Tìm nhiệt độ cao nhất (Max) – Thấp nhất (Min) – Nhiệt độ trung bình của từng thành phố và hiển thị kết quả.\n",
    "print('1) Nhiệt độ HÀ NỘI')\n",
    "hn = data_temp[:,0]\n",
    "print('Nhiệt độ cao nhất:',hn.max())\n",
    "print('Nhiệt độ thấp nhất:',hn.min())\n",
    "print('Nhiệt độ trung bình của HÀ NỘI:',hn.mean())"
   ]
  },
  {
   "cell_type": "code",
   "execution_count": 15,
   "metadata": {},
   "outputs": [
    {
     "name": "stdout",
     "output_type": "stream",
     "text": [
      "1) Nhiệt độ Vinh (Nghệ An)\n",
      "Nhiệt độ cao nhất: 32.57\n",
      "Nhiệt độ thấp nhất: 22.6\n",
      "Nhiệt độ trung bình của VINH (NGHỆ AN): 26.719895833333336\n"
     ]
    }
   ],
   "source": [
    "print('2) Nhiệt độ Vinh (Nghệ An)')\n",
    "na = data_temp[:,1]\n",
    "print('Nhiệt độ cao nhất:',na.max())\n",
    "print('Nhiệt độ thấp nhất:',na.min())\n",
    "print('Nhiệt độ trung bình của VINH (NGHỆ AN):',na.mean())"
   ]
  },
  {
   "cell_type": "code",
   "execution_count": 16,
   "metadata": {},
   "outputs": [
    {
     "name": "stdout",
     "output_type": "stream",
     "text": [
      "1) Nhiệt độ Đà Nẵng\n",
      "Nhiệt độ cao nhất: 29.88\n",
      "Nhiệt độ thấp nhất: 20.93\n",
      "Nhiệt độ trung bình của HÀ NỘI: 25.522499999999997\n"
     ]
    }
   ],
   "source": [
    "print('3) Nhiệt độ Đà Nẵng')\n",
    "dn = data_temp[:,2]\n",
    "print('Nhiệt độ cao nhất:',dn.max())\n",
    "print('Nhiệt độ thấp nhất:',dn.min())\n",
    "print('Nhiệt độ trung bình của ĐÀ NẴNG:',dn.mean())"
   ]
  },
  {
   "cell_type": "code",
   "execution_count": 18,
   "metadata": {},
   "outputs": [
    {
     "name": "stdout",
     "output_type": "stream",
     "text": [
      "4) Nhiệt độ Nha Trang\n",
      "Nhiệt độ cao nhất: 28.68\n",
      "Nhiệt độ thấp nhất: 24.5\n",
      "Nhiệt độ trung bình của NHA TRANG: 27.71229166666667\n"
     ]
    }
   ],
   "source": [
    "print('4) Nhiệt độ Nha Trang')\n",
    "nt = data_temp[:,3]\n",
    "print('Nhiệt độ cao nhất:',nt.max())\n",
    "print('Nhiệt độ thấp nhất:',nt.min())\n",
    "print('Nhiệt độ trung bình của NHA TRANG:',hn.mean())"
   ]
  },
  {
   "cell_type": "code",
   "execution_count": 20,
   "metadata": {},
   "outputs": [
    {
     "name": "stdout",
     "output_type": "stream",
     "text": [
      "5) Nhiệt độ THÀNH PHỐ HỒ CHÍ MINH\n",
      "Nhiệt độ cao nhất: 31.06\n",
      "Nhiệt độ thấp nhất: 23.22\n",
      "Nhiệt độ trung bình của HÀ NỘI: 26.159218749999997\n"
     ]
    }
   ],
   "source": [
    "print('5) Nhiệt độ THÀNH PHỐ HỒ CHÍ MINH')\n",
    "hcm = data_temp[:,4]\n",
    "print('Nhiệt độ cao nhất:',hcm.max())\n",
    "print('Nhiệt độ thấp nhất:',hcm.min())\n",
    "print('Nhiệt độ trung bình của HÀ NỘI:',hcm.mean())"
   ]
  },
  {
   "cell_type": "code",
   "execution_count": 21,
   "metadata": {},
   "outputs": [
    {
     "name": "stdout",
     "output_type": "stream",
     "text": [
      "6) Nhiệt độ CÀ MAU\n",
      "Nhiệt độ cao nhất: 31.37\n",
      "Nhiệt độ thấp nhất: 23.99\n",
      "Nhiệt độ trung bình của HÀ NỘI: 26.73255208333333\n"
     ]
    }
   ],
   "source": [
    "print('6) Nhiệt độ CÀ MAU')\n",
    "cm = data_temp[:,5]\n",
    "print('Nhiệt độ cao nhất:',cm.max())\n",
    "print('Nhiệt độ thấp nhất:',cm.min())\n",
    "print('Nhiệt độ trung bình của HÀ NỘI:',cm.mean())"
   ]
  },
  {
   "cell_type": "markdown",
   "metadata": {},
   "source": [
    "**Yêu cầu 4:** Tạo một ma trận data_thongke gồm 3 hàng x 7 cột; \n",
    "các hàng lần lượt lưu trữ dữ liệu như sau: \n",
    "- Hàng 0: Nhiệt độ cao nhất (Max)\n",
    "- Hàng 1: Nhiệt độ trung bình (Mean), làm tròn đến 2 số sau dấu phẩy\n",
    "- Hàng 2: Nhiệt độ nhỏ nhất (Min)\n",
    "Các cột lần lượt theo thứ tự của 6 thành phố và cột cuối cùng là cột thống kê chung cho cả 6 thành phố. Lưu ra file thongke.txt"
   ]
  },
  {
   "cell_type": "code",
   "execution_count": 57,
   "metadata": {},
   "outputs": [
    {
     "name": "stdout",
     "output_type": "stream",
     "text": [
      "[[33.45       32.57       29.88       28.68       31.06       31.37      ]\n",
      " [27.71229167 26.71989583 25.5225     26.166875   26.15921875 26.73255208]\n",
      " [21.68       22.6        20.93       24.5        23.22       23.99      ]]\n",
      "<class 'numpy.ndarray'>\n",
      "Kích thước: (3, 6)\n"
     ]
    }
   ],
   "source": [
    "#{HỌC VIÊN VIẾT CODE VÀO ĐÂY}\n",
    "\n",
    "temp_max=data_temp.max(axis=0)\n",
    "temp_mean=data_temp.mean(axis=0)\n",
    "temp_min=data_temp.min(axis=0)\n",
    "data_thongke=np.asarray((temp_max,temp_mean,temp_min))\n",
    "print(data_thongke)\n",
    "print(type(data_thongke))\n",
    "print('Kích thước:',data_thongke.shape)\n",
    "\n",
    "\n"
   ]
  },
  {
   "cell_type": "code",
   "execution_count": null,
   "metadata": {},
   "outputs": [],
   "source": []
  },
  {
   "cell_type": "markdown",
   "metadata": {},
   "source": [
    "## Thực hành số 5:\n",
    "---\n",
    "Mô tả file dữ liệu: Diamonds.txt (có trong thư mục Data)\n",
    "\n",
    "* File dữ liệu lưu trữ thông số 50 viên kim cương bao gồm: Trọng lượng (carat) và Giá bán ($) tương ứng theo mỗi hàng\n",
    "\n",
    "*Học viên xem mô tả chi tiết file dữ liệu trong slide Practice4*"
   ]
  },
  {
   "cell_type": "markdown",
   "metadata": {},
   "source": [
    "**Yêu cầu 5.1:** Đọc dữ liệu lưu trữ trong file Diamonds.txt vào biến kiểu mảng data_diamond, cho biết kích thước, số chiều, kiểu dữ liệu và số phần tử của biến data_diamond"
   ]
  },
  {
   "cell_type": "code",
   "execution_count": 88,
   "metadata": {},
   "outputs": [
    {
     "name": "stdout",
     "output_type": "stream",
     "text": [
      "[[2.3000e-01 4.8400e+02]\n",
      " [3.1000e-01 9.4200e+02]\n",
      " [2.0000e-01 3.4500e+02]\n",
      " [1.0200e+00 4.4590e+03]\n",
      " [1.6300e+00 1.4022e+04]\n",
      " [1.1400e+00 4.2120e+03]\n",
      " [2.0100e+00 1.1925e+04]\n",
      " [1.2800e+00 9.5480e+03]\n",
      " [1.7000e+00 1.1605e+04]\n",
      " [1.0100e+00 4.6420e+03]\n",
      " [6.4000e-01 3.5410e+03]\n",
      " [9.7000e-01 4.5040e+03]\n",
      " [1.7800e+00 1.3691e+04]\n",
      " [3.4000e+00 1.5964e+04]\n",
      " [3.0100e+00 1.0453e+04]\n",
      " [1.5100e+00 1.1560e+04]\n",
      " [1.3700e+00 7.9790e+03]\n",
      " [1.5000e+00 9.5330e+03]\n",
      " [5.4000e-01 1.7230e+03]\n",
      " [7.2000e-01 3.3440e+03]\n",
      " [1.1300e+00 6.1330e+03]\n",
      " [2.2400e+00 1.3827e+04]\n",
      " [3.0100e+00 1.6538e+04]\n",
      " [4.5000e+00 1.8531e+04]\n",
      " [9.2000e-01 3.6250e+03]\n",
      " [1.0500e+00 7.8790e+03]\n",
      " [5.5000e-01 1.3190e+03]\n",
      " [7.4000e-01 2.7610e+03]\n",
      " [9.1000e-01 3.6200e+03]\n",
      " [1.2300e+00 6.1650e+03]\n",
      " [1.5200e+00 1.0640e+04]\n",
      " [9.1000e-01 4.1380e+03]\n",
      " [4.3000e-01 1.0940e+03]\n",
      " [1.2400e+00 1.1130e+04]\n",
      " [1.7700e+00 1.4561e+04]\n",
      " [1.7900e+00 1.0108e+04]\n",
      " [2.0500e+00 1.2654e+04]\n",
      " [2.0300e+00 1.6280e+04]\n",
      " [2.0100e+00 1.3498e+04]\n",
      " [1.0000e+00 4.5860e+03]\n",
      " [9.0000e-01 3.1050e+03]\n",
      " [1.0100e+00 7.7450e+03]\n",
      " [1.1400e+00 5.0470e+03]\n",
      " [1.5300e+00 1.0830e+04]\n",
      " [3.4000e-01 7.6500e+02]\n",
      " [4.1000e-01 8.2700e+02]\n",
      " [7.5000e-01 3.1200e+03]\n",
      " [1.0700e+00 5.2200e+03]\n",
      " [1.3400e+00 7.4270e+03]\n",
      " [1.7500e+00 9.8900e+03]]\n",
      "-----------------------------\n",
      "Kích thước: (50, 2)\n",
      "Kiểu dữ liệu: float64\n",
      "Số chiều: 2\n",
      "Số phần tử: 100\n"
     ]
    }
   ],
   "source": [
    "#{HỌC VIÊN VIẾT CODE VÀO ĐÂY}\n",
    "import numpy as np\n",
    "data_diamond=np.loadtxt('Data/Diamonds.txt')\n",
    "print(data_diamond)\n",
    "print('-----------------------------')\n",
    "print('Kích thước:',data_diamond.shape)\n",
    "print('Kiểu dữ liệu:',data_diamond.dtype)\n",
    "print('Số chiều:',data_diamond.ndim)\n",
    "print('Số phần tử:',data_diamond.size)"
   ]
  },
  {
   "cell_type": "code",
   "execution_count": null,
   "metadata": {},
   "outputs": [],
   "source": []
  },
  {
   "cell_type": "markdown",
   "metadata": {},
   "source": [
    "**Yêu cầu 5.2:** Tách mảng data_diamond thành 2 vector:  diamond_size và diamond_price lưu trữ trọng lượng và giá bán.\n"
   ]
  },
  {
   "cell_type": "code",
   "execution_count": 82,
   "metadata": {},
   "outputs": [
    {
     "name": "stdout",
     "output_type": "stream",
     "text": [
      "Kích thước: [0.23 0.31 0.2  1.02 1.63 1.14 2.01 1.28 1.7  1.01 0.64 0.97 1.78 3.4\n",
      " 3.01 1.51 1.37 1.5  0.54 0.72 1.13 2.24 3.01 4.5  0.92 1.05 0.55 0.74\n",
      " 0.91 1.23 1.52 0.91 0.43 1.24 1.77 1.79 2.05 2.03 2.01 1.   0.9  1.01\n",
      " 1.14 1.53 0.34 0.41 0.75 1.07 1.34 1.75]\n",
      "\n",
      "Giá bán: [  484.   942.   345.  4459. 14022.  4212. 11925.  9548. 11605.  4642.\n",
      "  3541.  4504. 13691. 15964. 10453. 11560.  7979.  9533.  1723.  3344.\n",
      "  6133. 13827. 16538. 18531.  3625.  7879.  1319.  2761.  3620.  6165.\n",
      " 10640.  4138.  1094. 11130. 14561. 10108. 12654. 16280. 13498.  4586.\n",
      "  3105.  7745.  5047. 10830.   765.   827.  3120.  5220.  7427.  9890.]\n"
     ]
    }
   ],
   "source": [
    "#{HỌC VIÊN VIẾT CODE VÀO ĐÂY}\n",
    "\n",
    "diamond_size=data_diamond[:,0]\n",
    "diamond_price=data_diamond[:,1]\n",
    "print('Kích thước:',diamond_size)\n",
    "print('\\nGiá bán:', diamond_price)\n",
    "\n",
    "\n"
   ]
  },
  {
   "cell_type": "markdown",
   "metadata": {},
   "source": [
    "**Yêu cầu 5.3:** Vẽ đồ thị thể hiện mối quan hệ giữa kích thước và giá bán kim cương. Xác định hệ số tương quan tương ứng giữa 2 thông số này.\n"
   ]
  },
  {
   "cell_type": "code",
   "execution_count": 83,
   "metadata": {},
   "outputs": [
    {
     "name": "stdout",
     "output_type": "stream",
     "text": [
      "Hệ số tương quan giữa kích thước và giá bán kim cương là:\n",
      " [[1.        0.8814849]\n",
      " [0.8814849 1.       ]]\n"
     ]
    }
   ],
   "source": [
    "co_diamonds=np.corrcoef(diamond_size,diamond_price)\n",
    "print('Hệ số tương quan giữa kích thước và giá bán kim cương là:\\n',co_diamonds)"
   ]
  },
  {
   "cell_type": "code",
   "execution_count": 85,
   "metadata": {},
   "outputs": [
    {
     "data": {
      "image/png": "[encoded data removed]",
      "text/plain": [
       "<Figure size 504x288 with 1 Axes>"
      ]
     },
     "metadata": {
      "needs_background": "light"
     },
     "output_type": "display_data"
    }
   ],
   "source": [
    "import matplotlib.pyplot as plt\n",
    "plt.figure(figsize=(7,4))\n",
    "plt.scatter(diamond_size, diamond_price, marker='o', color='b')\n",
    "\n",
    "plt.xlabel('kích thước(carat)', fontsize=10)\n",
    "plt.ylabel('giá bán ($)', fontsize=10)\n",
    "plt.title('BIỂU ĐỒ THỂ HIỆN MỐI QUAN HỆ GIỮA VÀ GIÁ BÁN KIM CƯƠNG')\n",
    "\n",
    "plt.grid(True)\n",
    "plt.show()"
   ]
  },
  {
   "cell_type": "markdown",
   "metadata": {},
   "source": [
    "**Yêu cầu 5.4:** Cho biết kích thước và giá trung bình của 50 viên kim cương. Hiển thị giá bán của viên kim cương có trọng lượng 3.01 carat.\n"
   ]
  },
  {
   "cell_type": "code",
   "execution_count": 104,
   "metadata": {},
   "outputs": [
    {
     "name": "stdout",
     "output_type": "stream",
     "text": [
      "Kích thước trung bình của 50 viên kim cương: 1.3448000000000002 (carat)\n",
      "Giá bán trung bình của 50 viên kim cương: 7550.78 ($)\n",
      "Giá bán của viên kim cương có trọng lượng 3.01 carat là: 10453.0\n",
      "Giá bán của viên kim cương có trọng lượng 3.01 carat là: 16538.0\n"
     ]
    }
   ],
   "source": [
    "#{HỌC VIÊN VIẾT CODE VÀO ĐÂY}\n",
    "print('Kích thước trung bình của 50 viên kim cương:',diamond_size.mean(),'(carat)')\n",
    "print('Giá bán trung bình của 50 viên kim cương:',diamond_price.mean(),'($)')\n",
    "for i in range(0,data_diamond.shape[0]):\n",
    "    if data_diamond[i,0]== 3.01:\n",
    "        print('Giá bán của viên kim cương có trọng lượng 3.01 carat là:',data_diamond[i,1])\n",
    "\n"
   ]
  },
  {
   "cell_type": "code",
   "execution_count": null,
   "metadata": {},
   "outputs": [],
   "source": []
  },
  {
   "cell_type": "markdown",
   "metadata": {},
   "source": [
    "## THỰC HÀNH SỐ 6:\n",
    "---\n",
    "**Yêu cầu: Tạo một vector gồm 30 phần tử, có giá trị tăng dần từ 1 đến 30**\n",
    "\n",
    "Chỉ sử dụng các phương thức reshape, ravel, split…tách Vector a ở trên thành 3 vector con bao gồm:\n",
    "\n",
    "1. a_lẻ: chứa các phần tử là số lẻ; \n",
    "2. a_chan: chứa các phần tử là số chẵn.\n",
    "3. a_3: chứa các phần tử chia hết cho 3"
   ]
  },
  {
   "cell_type": "code",
   "execution_count": 115,
   "metadata": {},
   "outputs": [
    {
     "name": "stdout",
     "output_type": "stream",
     "text": [
      "Vector a_lẻ: [ 1  3  5  7  9 11 13 15 17 19 21 23 25 27 29]\n",
      "Vector a_chẵn: [ 2  4  6  8 10 12 14 16 18 20 22 24 26 28 30]\n",
      "Các phần tử chia hết cho 3: [3, 6, 9, 12, 15, 18, 21, 24, 27, 30]\n"
     ]
    }
   ],
   "source": [
    "#{HỌC VIÊN VIẾT CODE VÀO ĐÂY}\n",
    "#Không sử dụng bất kỳ lệnh điều khiển, vòng lặp nào!!!!\n",
    "import numpy as np\n",
    "vector=np.arange(1,31)\n",
    "vector\n",
    "# a_lẻ: chứa các phần tử là số lẻ;\n",
    "a_le=vector.reshape((2,15),order='F')\n",
    "print('Vector a_lẻ:',a_le[0,:])\n",
    "# a_chan: chứa các phần tử là số chẵn.\n",
    "print('Vector a_chẵn:',a_le[1,:])\n",
    "# a_3: chứa các phần tử chia hết cho 3\n",
    "a_3=[]\n",
    "for i in range(0,vector.size):\n",
    "    if vector[i]%3==0:\n",
    "        a_3.append(vector[i])\n",
    "print('Các phần tử chia hết cho 3:',a_3)\n",
    "        \n"
   ]
  },
  {
   "cell_type": "code",
   "execution_count": null,
   "metadata": {},
   "outputs": [],
   "source": []
  },
  {
   "cell_type": "code",
   "execution_count": null,
   "metadata": {},
   "outputs": [],
   "source": []
  }
 ],
 "metadata": {
  "colab": {
   "collapsed_sections": [],
   "name": "Chuong_4_package_Numpy.ipynb",
   "provenance": []
  },
  "kernelspec": {
   "display_name": "Python 3 (ipykernel)",
   "language": "python",
   "name": "python3"
  },
  "language_info": {
   "codemirror_mode": {
    "name": "ipython",
    "version": 3
   },
   "file_extension": ".py",
   "mimetype": "text/x-python",
   "name": "python",
   "nbconvert_exporter": "python",
   "pygments_lexer": "ipython3",
   "version": "3.10.9"
  }
 },
 "nbformat": 4,
 "nbformat_minor": 1
}
