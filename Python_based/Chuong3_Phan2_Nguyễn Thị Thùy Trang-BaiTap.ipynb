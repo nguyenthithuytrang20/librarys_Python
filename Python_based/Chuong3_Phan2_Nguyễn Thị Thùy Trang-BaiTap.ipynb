{
 "cells": [
  {
   "cell_type": "markdown",
   "metadata": {},
   "source": [
    "<center>\n",
    "    <img src='Pic/logo.png' width='300px'>\n",
    "    <h1>MÔN HỌC: KHOA HỌC DỮ LIỆU (7080509)</h1>\n",
    "    <h2>Chương 3: Lập Trình Python Cơ bản (Phần 2)</h2>\n",
    "</center>\n",
    "\n",
    "---\n",
    "**NỘI DUNG BÀI HỌC:**\n",
    "1. Các toán tử cơ bản trong Python:\n",
    "    * Toán tử số học\n",
    "    * Toán tử so sánh\n",
    "    * Toán tử gán\n",
    "    * Toán tử logic\n",
    "    * Toán tử membership\n",
    "2. Cấu trúc điều khiển (Dạng 1, dạng 2, dạng 3, dạng 4) \n",
    "3. Cấu trúc vòng lặp \n",
    "    * Vòng lặp không biết trước số lần lặp while\n",
    "    * Vòng lặp biết trước số lần lặp for\n",
    "    * Break\n",
    "    * Continue\n",
    "---\n",
    "*Copyright: Nguyễn Thị Thùy Trang - 2021050885 - DCCTHT65B"
   ]
  },
  {
   "cell_type": "markdown",
   "metadata": {},
   "source": [
    "# THỰC HÀNH\n",
    "----"
   ]
  },
  {
   "cell_type": "markdown",
   "metadata": {},
   "source": [
    "##### Dạ thưa thầy em xin được nộp lại bài tập Phần 2 của chương 3 ạ. vì do là em thấy bài trước của em còn nhiều lỗi, qua thời gian tìm hiểu thì em đã hoàn thành bài tốt hơn ạ.\n",
    "##### Em mong thầy sẽ chấp nhận bài bổ sung này của em. Em xin chân thành cảm ơn ạ!"
   ]
  },
  {
   "cell_type": "markdown",
   "metadata": {},
   "source": [
    "## Bài 6: Xác định nguyên âm|phụ âm\n",
    "---\n",
    "Nhập vào một ký tự chữ cái bất kỳ(không phân biệt chữ hoa-chữ thường), cho biết nó là nguyên âm hay phụ âm trong tiếng anh. \n",
    "* 5 chữ cái nguyên âm: **U, E, O, A, I**\n",
    "* 21 Chữ cái phụ âm: **B, C, D, F, G, H, J K, L, M, N, P, Q, R, S, T, V, W, X, Y, Z**\n"
   ]
  },
  {
   "cell_type": "code",
   "execution_count": 18,
   "metadata": {},
   "outputs": [
    {
     "name": "stdout",
     "output_type": "stream",
     "text": [
      "Nhập vào một chữ cái: o\n",
      "Phụ Âm\n"
     ]
    }
   ],
   "source": [
    "#{HỌC VIÊN VIẾT CODE Ở ĐÂY}\n",
    "chu=input('Nhập vào một chữ cái: ')\n",
    "ds=['U','u','E','e','O','o','A','a','I','i']\n",
    "if(chu==ds):\n",
    "    print('Nguyên âm ') \n",
    "else:\n",
    "    print('Phụ Âm')\n",
    "\n",
    "\n",
    "\n",
    "\n"
   ]
  },
  {
   "cell_type": "code",
   "execution_count": 17,
   "metadata": {},
   "outputs": [
    {
     "name": "stdout",
     "output_type": "stream",
     "text": [
      "enter:o\n",
      "Nguyen am\n"
     ]
    }
   ],
   "source": [
    "chu=input('enter:')\n",
    "print('Nguyen am') if(chu=='U'or chu=='u'or chu=='E'or chu=='e'or chu=='O'or chu=='o'or chu=='A'or chu=='a'or chu=='I'or chu=='i') else print('phu am')"
   ]
  },
  {
   "cell_type": "markdown",
   "metadata": {},
   "source": [
    "## Bài 7: Tính chỉ số BMI\n",
    "---\n",
    "Nhập vào chiều cao (m) và cân nặng (kg) rồi tính chỉ số BMI của người đó theo công thức:\n",
    "\n",
    "* BMI = Weight(Kg) / Height(m) ^2 \n",
    "\n",
    "Dựa vào chỉ số BMI tính được đưa ra nhận xét về cơ thể của người đó theo các mức:\n",
    "* Underweight: BMI<18.5\n",
    "* NormalWeight: 18.5 <= BMI <= 24.9\n",
    "* Overweight: 25 <= BMI <=29.9\n",
    "* Obese: BMI>=30\n"
   ]
  },
  {
   "cell_type": "code",
   "execution_count": 21,
   "metadata": {},
   "outputs": [
    {
     "name": "stdout",
     "output_type": "stream",
     "text": [
      "Nhập chiều cao của bạn(m): 1.64\n",
      "Nhập cân nặng của bạn(kg): 47\n",
      "Chỉ sô BMI của bạn là: 17.5\n",
      " nhẹ cân! \n"
     ]
    }
   ],
   "source": [
    "#{HỌC VIÊN VIẾT CODE Ở ĐÂY}\n",
    "\n",
    "chieu_cao=float(input('Nhập chiều cao của bạn(m): '))\n",
    "can_nang=float(input('Nhập cân nặng của bạn(kg): '))\n",
    "bmi=can_nang/(chieu_cao**2)\n",
    "print('Chỉ sô BMI của bạn là:', round(bmi,1))\n",
    "if(bmi<18.5):\n",
    "    print(' nhẹ cân! ')\n",
    "elif(18.5<=bmi<=24.9):\n",
    "    pritn('cân nặng bình thường!')\n",
    "elif(2<=bmi<=29.9):\n",
    "    print('nặng hơn mức bình thường!')\n",
    "else:\n",
    "    print('béo phì!')\n",
    "\n",
    "\n",
    "\n",
    "\n"
   ]
  },
  {
   "cell_type": "code",
   "execution_count": null,
   "metadata": {},
   "outputs": [],
   "source": []
  },
  {
   "cell_type": "code",
   "execution_count": null,
   "metadata": {},
   "outputs": [],
   "source": []
  },
  {
   "cell_type": "code",
   "execution_count": null,
   "metadata": {},
   "outputs": [],
   "source": []
  },
  {
   "cell_type": "markdown",
   "metadata": {},
   "source": [
    "## Bài 8: Xác định mùa trong năm!\n",
    "---\n",
    "Nhập vào tháng sinh của bạn và cho biết bạn sinh vào mùa nào?\n",
    "\n",
    "**Yêu cầu:**\n",
    "* Nếu 1, 2, 3: Bạn sinh vào Mùa xuân\n",
    "* Nếu 4, 5, 6: Bạn sinh vào Mùa hạ\n",
    "* Nếu 7, 8, 9: Bạn sinh vào Mùa thu\n",
    "* Nếu 10, 11, 12: Bạn sinh vào Mùa đông\n",
    "* <1 hoặc >12: Tháng sinh nhập vào không đúng\n"
   ]
  },
  {
   "cell_type": "code",
   "execution_count": 7,
   "metadata": {},
   "outputs": [
    {
     "name": "stdout",
     "output_type": "stream",
     "text": [
      "Nhập tháng sinh của bạn: 3\n",
      "Bạn sinh vào mùa xuân!\n"
     ]
    }
   ],
   "source": [
    "#{HỌC VIÊN VIẾT CODE Ở ĐÂY}\n",
    "month = int(input('Nhập tháng sinh của bạn: '))\n",
    "if(month == 1 or month == 2 or month == 3):\n",
    "    print('Bạn sinh vào mùa xuân!')\n",
    "elif(month == 4 or month == 5 or month == 6):\n",
    "    print('Bạn sinh vào mùa hạ!')\n",
    "elif(month == 7 or month == 8 or month == 9):\n",
    "    print('Bạn sinh vào mùa thu!')\n",
    "elif(month == 10 or month == 11 or month == 12):\n",
    "    print('Bạn sinh vào mùa đông!')\n",
    "else:\n",
    "    print('Tháng sinh nhập không đúng!')\n",
    "    \n",
    "\n",
    "\n"
   ]
  },
  {
   "cell_type": "markdown",
   "metadata": {},
   "source": [
    "##### Bài 8 sử dụng try - except, while"
   ]
  },
  {
   "cell_type": "code",
   "execution_count": 26,
   "metadata": {},
   "outputs": [
    {
     "name": "stdout",
     "output_type": "stream",
     "text": [
      "Nhập tháng sinh của bạn: 1\n",
      "Tháng sinh nhập không đúng!\n",
      "Nhập tháng sinh của bạn: 4\n",
      "Bạn sinh vào mùa hạ!\n"
     ]
    }
   ],
   "source": [
    "try:\n",
    "    while True:\n",
    "        month=int(input('Nhập tháng sinh của bạn: '))\n",
    "        if(1<=month<=12):\n",
    "            break\n",
    "        print('Tháng sinh nhập không đúng!')\n",
    "\n",
    "    if(month == 1 or month == 2 or month == 3):\n",
    "        print('Bạn sinh vào mùa xuân!')\n",
    "    elif(month == 4 or month == 5 or month == 6):\n",
    "        print('Bạn sinh vào mùa hạ!')\n",
    "    elif(month == 7 or month == 8 or month == 9):\n",
    "        print('Bạn sinh vào mùa thu!')\n",
    "    else: \n",
    "    #(month == 10 or month == 11 or month == 12):\n",
    "        print('Bạn sinh vào mùa đông!')\n",
    "except:\n",
    "    print('Bạn nhập sai ký tự yêu cầu!')\n",
    "    \n",
    "        \n",
    "    \n",
    "    "
   ]
  },
  {
   "cell_type": "markdown",
   "metadata": {},
   "source": [
    "### THỰC HÀNH"
   ]
  },
  {
   "cell_type": "markdown",
   "metadata": {},
   "source": [
    "## Bài 9: Hiển thị bảng cửu chương!\n",
    "---\n",
    "Nhập vào bảng cửu chương muốn in (1 – 10), hiển thị bảng cửu chương tương ứng với số vừa nhập. (Lưu ý: Thực hiện kiểm tra giá trị nhập, chỉ thỏa mãn khi giá trị nhập vào trong khoảng [1,10] \n",
    "\n",
    "*Xem minh họa bài tập trong file bài giảng!*"
   ]
  },
  {
   "cell_type": "code",
   "execution_count": 49,
   "metadata": {},
   "outputs": [
    {
     "name": "stdout",
     "output_type": "stream",
     "text": [
      "Nhập vào bảng cửu chương mong muốn [1-10]: 3\n",
      "Bảng cửu chương 3 là:\n",
      "3 x 1 = 3\n",
      "3 x 2 = 6\n",
      "3 x 3 = 9\n",
      "3 x 4 = 12\n",
      "3 x 5 = 15\n",
      "3 x 6 = 18\n",
      "3 x 7 = 21\n",
      "3 x 8 = 24\n",
      "3 x 9 = 27\n",
      "3 x 10 = 30\n"
     ]
    }
   ],
   "source": [
    "#{HỌC VIÊN VIẾT CODE Ở ĐÂY!}\n",
    "\n",
    "while True:\n",
    "    bang_cuu_chuong=int(input('Nhập vào bảng cửu chương mong muốn [1-10]: '))\n",
    "    if(1<= bang_cuu_chuong<=10):\n",
    "        break\n",
    "    bcc=int(input('Vui lòng nhập lại một trong các bảng [1,10] !'))\n",
    "print('Bảng cửu chương',bang_cuu_chuong,'là:')    \n",
    "for i in range(1,11):\n",
    "    if(i==bang_cuu_chuong):\n",
    "        #print('Bảng cửu chương',i,'là:')\n",
    "        for j in range (1,11):\n",
    "            print(i,'x',j,'=',i*j)\n",
    "       \n",
    "   \n",
    "    \n",
    "\n",
    "\n",
    "\n",
    "\n"
   ]
  },
  {
   "cell_type": "code",
   "execution_count": 41,
   "metadata": {},
   "outputs": [
    {
     "name": "stdout",
     "output_type": "stream",
     "text": [
      "Nhập vào bảng cửu chương mong muốn [1-10]: 5\n",
      "bảng cửu chương  5\n",
      "5 x 1 = 5\n",
      "5 x 2 = 10\n",
      "5 x 3 = 15\n",
      "5 x 4 = 20\n",
      "5 x 5 = 25\n",
      "5 x 6 = 30\n",
      "5 x 7 = 35\n",
      "5 x 8 = 40\n",
      "5 x 9 = 45\n",
      "5 x 10 = 50\n"
     ]
    }
   ],
   "source": [
    "bang_cuu_chuong=int(input('Nhập vào bảng cửu chương mong muốn [1-10]: '))\n",
    "while True:\n",
    "    if(1<= bang_cuu_chuong<=10):\n",
    "        break\n",
    "    bcc=int(input('Vui lòng nhập lại một trong các bảng [1,10] !'))\n",
    "print('bảng cửu chương ',bang_cuu_chuong)\n",
    "for i in range (1,11):\n",
    "    print(bang_cuu_chuong,'x',i,'=',bang_cuu_chuong*i)"
   ]
  },
  {
   "cell_type": "code",
   "execution_count": 5,
   "metadata": {},
   "outputs": [
    {
     "name": "stdout",
     "output_type": "stream",
     "text": [
      "Nhập vào bảng cửu chương:3\n",
      "Các bảng cửu chương là:\n",
      "0 x 1 = 0\n",
      "0 x 2 = 0\n",
      "0 x 3 = 0\n",
      "0 x 4 = 0\n",
      "0 x 5 = 0\n",
      "0 x 6 = 0\n",
      "0 x 7 = 0\n",
      "0 x 8 = 0\n",
      "0 x 9 = 0\n",
      "0 x 10 = 0\n",
      "\n",
      "\n",
      "1 x 1 = 1\n",
      "1 x 2 = 2\n",
      "1 x 3 = 3\n",
      "1 x 4 = 4\n",
      "1 x 5 = 5\n",
      "1 x 6 = 6\n",
      "1 x 7 = 7\n",
      "1 x 8 = 8\n",
      "1 x 9 = 9\n",
      "1 x 10 = 10\n",
      "\n",
      "\n",
      "2 x 1 = 2\n",
      "2 x 2 = 4\n",
      "2 x 3 = 6\n",
      "2 x 4 = 8\n",
      "2 x 5 = 10\n",
      "2 x 6 = 12\n",
      "2 x 7 = 14\n",
      "2 x 8 = 16\n",
      "2 x 9 = 18\n",
      "2 x 10 = 20\n",
      "\n",
      "\n",
      "3 x 1 = 3\n",
      "3 x 2 = 6\n",
      "3 x 3 = 9\n",
      "3 x 4 = 12\n",
      "3 x 5 = 15\n",
      "3 x 6 = 18\n",
      "3 x 7 = 21\n",
      "3 x 8 = 24\n",
      "3 x 9 = 27\n",
      "3 x 10 = 30\n",
      "\n",
      "\n"
     ]
    }
   ],
   "source": [
    "bang_cuu_chuong=int(input('Nhập vào bảng cửu chương:'))\n",
    "while True:\n",
    "    if(0<bang_cuu_chuong):\n",
    "        break\n",
    "    print('bảng cửu chương cần lơn hơn 0!')\n",
    "print('Các bảng cửu chương là:')\n",
    "for i in range(bang_cuu_chuong+1):\n",
    "    for j in range(1,11):\n",
    "        print(i ,'x',j,'=',i*j)\n",
    "    print('\\n')"
   ]
  },
  {
   "cell_type": "markdown",
   "metadata": {},
   "source": [
    "## Bài 10: Tính điểm học tập của bạn!\n",
    "---\n",
    "Khởi tạo một danh sách bao gồm các phần tử là điểm của bạn (hệ 10). Hãy thực hiện:\n",
    "1. Tạo một danh sách là các điểm chữ tương ứng với điểm hệ 10 ở trên.\n",
    "2. Tính điểm trung bình Hệ 10 và Hệ 4\n",
    "\n",
    "*Tham khảo minh họa trong slide bài giảng bảng chuyển đổi từ điểm số (Hệ 10) sang điểm số (hệ 4) và điểm chữ*  \n"
   ]
  },
  {
   "cell_type": "markdown",
   "metadata": {},
   "source": [
    "#### by trang"
   ]
  },
  {
   "cell_type": "code",
   "execution_count": 2,
   "metadata": {},
   "outputs": [
    {
     "name": "stdout",
     "output_type": "stream",
     "text": [
      "Nhập số lượng điểm của bạn: 3\n",
      "Nhập điểm: 7.8\n",
      "Nhập điểm: 9\n",
      "Nhập điểm: 8.8\n",
      "\n",
      "Điểm hệ 10:  [7.8, 9.0, 8.8]\n",
      "Điểm hệ chữ tương ứng:  ['B', 'A+', 'A']\n",
      "[3.0, 4.0, 3.7]\n",
      "------ĐIỂM TRUNG BÌNH------\n",
      "Điểm trung bình hệ 10:   8.533333333333333\n",
      "Điểm trung bình hệ 4:   3.6\n"
     ]
    }
   ],
   "source": [
    "#{HỌC VIÊN VIẾT CODE Ở ĐÂY!}\n",
    "\n",
    "diem_so=[]\n",
    "diem_chu=[]\n",
    "diem_4=[]\n",
    "#chu=0\n",
    "he_4=0\n",
    "sum_10=0\n",
    "sum_4=0\n",
    "while True:\n",
    "    sl_diem=int(input('Nhập số lượng điểm của bạn: '))\n",
    "    if(sl_diem>0):\n",
    "        break\n",
    "    print('Yêu cầu nhập một số nguyên dương >0!')\n",
    "for i in range(sl_diem):\n",
    "    diem=float(input('Nhập điểm: '))\n",
    "    if(9.0<=diem<=10.0):\n",
    "        chu='A+'\n",
    "        he_4=float('4')\n",
    "    elif(8.5<=diem<=8.9):\n",
    "        chu='A'\n",
    "        he_4=float('3.7')\n",
    "    elif(8.0<=diem<=8.4):\n",
    "        chu='B+'\n",
    "        he_4=float('3.5')\n",
    "    elif(7.0<=diem<=7.9):\n",
    "        chu='B'\n",
    "        he_4=float('3.0')\n",
    "    elif(6.5<=diem<=6.9):\n",
    "        chu='C+'\n",
    "        he_4=float('2.5')\n",
    "    elif(5.5<=diem<=6.4):\n",
    "        chu='C'\n",
    "        he_4=float('2')\n",
    "    elif(5.0<=diem<=5.4):\n",
    "        chu='D+'\n",
    "        he_4=float('1.5')\n",
    "    elif(4.0<=diem<=4.9):\n",
    "        chu='D'\n",
    "        he_4=float('1.0')\n",
    "    elif(0<=diem<4):\n",
    "        chu='F'\n",
    "        he_4=float('0')\n",
    "    else:\n",
    "        print('Điểm không hợp lệ!')\n",
    "    diem_so.append(diem)\n",
    "    diem_chu.append(chu)\n",
    "    diem_4.append(he_4)\n",
    "    \n",
    "print('\\nĐiểm hệ 10: ',diem_so)\n",
    "print('Điểm hệ chữ tương ứng: ',diem_chu)\n",
    "print(diem_4)\n",
    "\n",
    "print('------ĐIỂM TRUNG BÌNH------')\n",
    "\n",
    "# câu lệnh tính điểm trung bình hệ 10\n",
    "for ten in diem_so:\n",
    "    sum_10 +=ten\n",
    "print('Điểm trung bình hệ 10:  ',sum_10/len(diem_so))\n",
    "\n",
    "# tinh điểm trung bình hệ 4\n",
    "for four in diem_4:\n",
    "    sum_4+=four\n",
    "print('Điểm trung bình hệ 4:  ',round(sum_4/len(diem_4),1))\n",
    "            \n",
    "\n",
    "\n",
    "\n"
   ]
  },
  {
   "cell_type": "code",
   "execution_count": 1,
   "metadata": {},
   "outputs": [
    {
     "name": "stdout",
     "output_type": "stream",
     "text": [
      "Nhập số lượng điểm của bạn: 3\n",
      "Nhập điểm: 7\n",
      "Nhập điểm: 8\n",
      "Nhập điểm: 9\n",
      "\n",
      "Điểm hệ 10:  [7.0, 8.0, 9.0]\n",
      "Điểm hệ chữ tương ứng:  ['B', 'B+', 'A+']\n",
      "------ĐIỂM TRUNG BÌNH------\n",
      "Điểm trung bình hệ 10:   8.0\n",
      "Điểm trung bình hệ 4:   3.5\n"
     ]
    }
   ],
   "source": [
    "diem_so=[]\n",
    "diem_chu=[]\n",
    "diem_4=[]\n",
    "#chu=0\n",
    "he_4=0\n",
    "sum_10=0\n",
    "sum_4=0\n",
    "while True:\n",
    "    sl_diem=int(input('Nhập số lượng điểm của bạn: '))\n",
    "    if(sl_diem>0):\n",
    "        break\n",
    "    print('Yêu cầu nhập một số nguyên dương >0!')\n",
    "for i in range(sl_diem):\n",
    "    diem=float(input('Nhập điểm: '))\n",
    "    if(9.0<=diem<=10.0):\n",
    "        chu='A+'\n",
    "        he_4='4'\n",
    "        sum_4 += 4\n",
    "        sum_10 += diem\n",
    "    elif(8.5<=diem<=8.9):\n",
    "        chu='A'\n",
    "        he_4='3.7'\n",
    "        sum_4 += 3.7\n",
    "        sum_10 += diem\n",
    "    elif(8.0<=diem<=8.4):\n",
    "        chu='B+'\n",
    "        he_4='3.5'\n",
    "        sum_4 += 3.5\n",
    "        sum_10 += diem\n",
    "    elif(7.0<=diem<=7.9):\n",
    "        chu='B'\n",
    "        he_4='3.0'\n",
    "        sum_4 += 3\n",
    "        sum_10 += diem\n",
    "    elif(6.5<=diem<=6.9):\n",
    "        chu='C+'\n",
    "        he_4='2.5'\n",
    "        sum_4 += 2.5\n",
    "        sum_10 += diem\n",
    "    elif(5.5<=diem<=6.4):\n",
    "        chu='C'\n",
    "        he_4='2'\n",
    "        sum_4 += 2\n",
    "        sum_10 += diem\n",
    "    elif(5.0<=diem<=5.4):\n",
    "        chu='D+'\n",
    "        he_4='1.5'\n",
    "        sum_4 += 1.5\n",
    "        sum_10 += diem\n",
    "    elif(4.0<=diem<=4.9):\n",
    "        chu='D'\n",
    "        he_4='1.0'\n",
    "        sum_4 += 1.0\n",
    "        sum_10 += diem\n",
    "    elif(0<=diem<4):\n",
    "        chu='F'\n",
    "        he_4='0'\n",
    "        sum_4 += 0\n",
    "        sum_10 += diem\n",
    "    else:\n",
    "        print('Điểm không hợp lệ!')\n",
    "    diem_so.append(diem)\n",
    "    diem_chu.append(chu)\n",
    "    diem_4.append(he_4)\n",
    "    \n",
    "print('\\nĐiểm hệ 10: ',diem_so)\n",
    "print('Điểm hệ chữ tương ứng: ',diem_chu)\n",
    "\n",
    "print('------ĐIỂM TRUNG BÌNH------')\n",
    "\n",
    "# câu lệnh tính điểm trung bình hệ 10\n",
    "print('Điểm trung bình hệ 10:  ',sum_10/len(diem_so))\n",
    "\n",
    "# tinh điểm trung bình hệ 4\n",
    "print('Điểm trung bình hệ 4:  ',sum_4/len(diem_4))"
   ]
  },
  {
   "cell_type": "markdown",
   "metadata": {},
   "source": [
    "## Bài 11: Kiểm tra N có là số nguyên tố?\n",
    "---\n",
    "Nhập vào số tự nhiên N, cho biết N có phải là số nguyên tố hay không? (Số nguyên tố là số lớn hơn 1, chỉ chia hết cho 1 và chính nó)\n"
   ]
  },
  {
   "cell_type": "code",
   "execution_count": 8,
   "metadata": {},
   "outputs": [
    {
     "name": "stdout",
     "output_type": "stream",
     "text": [
      "Nhập vào một số nguyên: 7\n",
      "7 là số nguyên tố\n"
     ]
    }
   ],
   "source": [
    "#{HỌC VIÊN VIẾT CODE Ở ĐÂY!}\n",
    "\n",
    "# Kiểm tra với các giá trị sau\n",
    "\n",
    "#N0 = 2, 4        --> ???\n",
    "#N1 = 98711653011 --> ??\n",
    "#N2 = 87178291199 --> ??\n",
    "dem=0\n",
    "while True:\n",
    "    number=int(input('Nhập vào một số nguyên: '))\n",
    "    if(number>=0):\n",
    "        break\n",
    "    print('Yêu cầu nhập một số nguyên dương và lớn hơn 1!')\n",
    "for i in range(1,number):\n",
    "    flag = True\n",
    "    if(number%1==0 and number%i!=0):\n",
    "        flag = True\n",
    "if (flag == True):\n",
    "    print(number,'là số nguyên tố')\n",
    "else:\n",
    "     print(number,'không phải là số nguyên tố')\n",
    "\n"
   ]
  },
  {
   "cell_type": "markdown",
   "metadata": {},
   "source": [
    "## Bài 12: dãy số nguyên tố\n",
    "---\n",
    "Nhập vào một số N, hiển thị các số nguyên tố từ 2 tới N:\n"
   ]
  },
  {
   "cell_type": "code",
   "execution_count": 14,
   "metadata": {},
   "outputs": [
    {
     "name": "stdout",
     "output_type": "stream",
     "text": [
      "Nhập một số nguyên dương: 7\n",
      "[2, 3, 5, 7]\n"
     ]
    }
   ],
   "source": [
    "dem=0\n",
    "lisst=[]\n",
    "while True:\n",
    "    number=int(input(\"Nhập một số nguyên dương: \"))\n",
    "    if(0<number):\n",
    "        break\n",
    "if(number==1):\n",
    "    print(number,'không phải số nguyên tố')\n",
    "else:\n",
    "    for i in range(2,number+1):\n",
    "        prime = True\n",
    "        if(i==2):\n",
    "            prime = True\n",
    "        elif(i%2==0):\n",
    "            prime = False\n",
    "        else:\n",
    "            for j in range(3,i,1):\n",
    "                if(i%j==0):\n",
    "                    prime = False\n",
    "        if(prime == True):\n",
    "            lisst.append(i)\n",
    "print(lisst)\n"
   ]
  },
  {
   "cell_type": "markdown",
   "metadata": {},
   "source": [
    "## Bài 13: Đổi số từ thập phân sang nhị phân\n",
    "---\n",
    "Nhập vào một số tự nhiên N (N>0), chuyển đổi số N sang hệ nhị phân.\n"
   ]
  },
  {
   "cell_type": "code",
   "execution_count": 8,
   "metadata": {},
   "outputs": [
    {
     "name": "stdout",
     "output_type": "stream",
     "text": [
      "Nhập một số tự nhiên: 20\n",
      "Số trên có dạng nhị phân là: [1, 0, 1, 0, 0]\n"
     ]
    }
   ],
   "source": [
    "number= int(input(\"Nhập một số tự nhiên: \"))\n",
    "nhi_phan=[]\n",
    "while(number>0):\n",
    "    du=int(number%2)\n",
    "    nhi_phan.append(du)\n",
    "    number=int(number//2)\n",
    "#nhi_phan.append(du)\n",
    "nhi_phan.reverse()\n",
    "print('Số trên có dạng nhị phân là:', nhi_phan)\n",
    "\n"
   ]
  },
  {
   "cell_type": "code",
   "execution_count": 1,
   "metadata": {},
   "outputs": [
    {
     "name": "stdout",
     "output_type": "stream",
     "text": [
      "Nhập vào một số nguyên: 20\n",
      "So 0.0  co dang nhi phan la: [1, 1, 0, 1, 0, 0]\n"
     ]
    }
   ],
   "source": [
    "#{HỌC VIÊN VIẾT CODE Ở ĐÂY!}\n",
    "\n",
    "nt=[]\n",
    "so=int(input('Nhập vào một số nguyên: '))\n",
    "while (so>0):\n",
    "        a = int(float(so%2)) \n",
    "        nt.append(a)\n",
    "        so = (so-a)/2\n",
    "nt.reverse()\n",
    "print(\"So trên co dang nhi phan la:\", nt)\n",
    "\n"
   ]
  },
  {
   "cell_type": "code",
   "execution_count": null,
   "metadata": {},
   "outputs": [],
   "source": []
  }
 ],
 "metadata": {
  "kernelspec": {
   "display_name": "Python 3 (ipykernel)",
   "language": "python",
   "name": "python3"
  },
  "language_info": {
   "codemirror_mode": {
    "name": "ipython",
    "version": 3
   },
   "file_extension": ".py",
   "mimetype": "text/x-python",
   "name": "python",
   "nbconvert_exporter": "python",
   "pygments_lexer": "ipython3",
   "version": "3.9.12"
  }
 },
 "nbformat": 4,
 "nbformat_minor": 2
}
