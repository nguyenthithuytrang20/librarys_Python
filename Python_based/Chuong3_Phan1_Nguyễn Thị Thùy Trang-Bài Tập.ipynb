{
 "cells": [
  {
   "cell_type": "markdown",
   "metadata": {},
   "source": [
    "## THỰC HÀNH\n",
    "---"
   ]
  },
  {
   "cell_type": "markdown",
   "metadata": {},
   "source": [
    "## Bài 1: Chia kẹo cho học sinh lớp 1\n",
    "----\n",
    "Cô có n cái kẹo, có m học sinh trong lớp. Hãy giúp cô chia đều số kẹo cho tất cả học sinh.\n",
    "\n",
    "**Yêu cầu:**\n",
    "* Nhập vào số kẹo của cô – N\n",
    "* Nhập vào số học sinh trong lớp – M\n",
    "\n",
    "\n",
    "Cho biết:\n",
    "1. Mỗi học sinh được nhận bao nhiêu cái kẹo?\n",
    "2. Cô còn lại bao nhiêu cái kẹo?\n"
   ]
  },
  {
   "cell_type": "code",
   "execution_count": 1,
   "metadata": {},
   "outputs": [
    {
     "name": "stdout",
     "output_type": "stream",
     "text": [
      "Nhập số kẹo: 34\n",
      "Nhập só học sinh: 23\n",
      "\t----- kết quả -----\n",
      " Mỗi học sinh được  1  cái kẹo\n",
      " Cô còn lại  11  cái kẹo\n"
     ]
    }
   ],
   "source": [
    "#{HỌC VIÊN VIẾT CODE Ở ĐÂY!}\n",
    "so_keo = int(input('Nhập số kẹo: '))\n",
    "so_hs = int(input('Nhập só học sinh: '))\n",
    "print('\\t----- kết quả -----')\n",
    "print(' Mỗi học sinh được ', so_keo // so_hs, ' cái kẹo')\n",
    "print(' Cô còn lại ', so_keo % so_hs, ' cái kẹo')\n",
    "\n",
    "\n",
    "\n",
    "\n"
   ]
  },
  {
   "cell_type": "code",
   "execution_count": null,
   "metadata": {},
   "outputs": [],
   "source": []
  },
  {
   "cell_type": "markdown",
   "metadata": {},
   "source": [
    "# Bài 2: Tính tuổi\n",
    "---\n",
    "Nhập vào tên và năm sinh của một người, tính tuổi của người đó và hiển thị ra màn hình thông báo \n",
    "\n",
    "Yêu cầu:\n",
    "\n",
    "* Nhập vào họ tên: mai phương thúy\n",
    "* Nhập vào năm sinh: 2000\n",
    "\n",
    "Hiển thị thông báo kết quả:\n",
    "\t **Bạn “MAI PHƯƠNG THÚY” năm nay 19 tuổi!**\n",
    "\n",
    "\n"
   ]
  },
  {
   "cell_type": "code",
   "execution_count": 2,
   "metadata": {},
   "outputs": [
    {
     "name": "stdout",
     "output_type": "stream",
     "text": [
      "Nhập họ và  tên: ngyekhs\n",
      "Nhập năm sinh: 2002\n",
      "---- hiển thị ----\n",
      "Bạn \" NGYEKHS \" năm nay  20 tuổi!\n"
     ]
    }
   ],
   "source": [
    "#{HỌC VIÊN VIẾT CODE Ở ĐÂY!}\n",
    "ho_ten = input('Nhập họ và  tên: ')\n",
    "nam_sinh = int(input('Nhập năm sinh: '))\n",
    "import datetime\n",
    "year = datetime.datetime.now().year\n",
    "tuoi = year - nam_sinh\n",
    "print('---- hiển thị ----')\n",
    "print('Bạn \\\"', ho_ten.upper() , '\\\" năm nay ', tuoi, 'tuổi!')\n",
    "\n",
    "\n",
    "\n"
   ]
  },
  {
   "cell_type": "code",
   "execution_count": null,
   "metadata": {},
   "outputs": [],
   "source": []
  },
  {
   "cell_type": "markdown",
   "metadata": {},
   "source": [
    "# Bài 3: Cho biết số thỏ trong rừng!\n",
    "---\n",
    "Ban đầu trong rừng có một cặp thỏ, biết rằng cứ sau 1 tháng thì số lượng thỏ trong rừng tăng lên gấp đôi. Hỏi sau x tháng thì trong rừng có bao nhiêu con thỏ (Giả thiết các con thỏ không chết)\n",
    "\n",
    "Yêu cầu: \n",
    "* Nhập vào số tháng x: 3\n",
    "* Hiển thị thông báo kết quả:\n",
    "\t **Trong rừng có: 16 con thỏ**"
   ]
  },
  {
   "cell_type": "code",
   "execution_count": 3,
   "metadata": {},
   "outputs": [
    {
     "name": "stdout",
     "output_type": "stream",
     "text": [
      "Nhập vào số tháng: 15\n",
      "Không có tháng  15\n"
     ]
    }
   ],
   "source": [
    "#{HỌC VIÊN VIẾT CODE Ở ĐÂY!}\n",
    "so_thang = int(input('Nhập vào số tháng: '))\n",
    "thang_gh = 12\n",
    "if so_thang<thang_gh:\n",
    "    so_tho = 2**(so_thang +1)\n",
    "    print('Sau ', so_thang,' số thỏ trong rừng là',so_tho, 'con')\n",
    "else:\n",
    "    print('Không có tháng ',so_thang)\n",
    "\n"
   ]
  },
  {
   "cell_type": "code",
   "execution_count": null,
   "metadata": {},
   "outputs": [],
   "source": []
  },
  {
   "cell_type": "markdown",
   "metadata": {},
   "source": [
    "# Bài 4: Chuỗi văn bản\n",
    "---\n",
    "\n",
    "“Nước Việt Nam là một, dân tộc Việt Nam là một. Sông có thể cạn núi có thể mòn, song chân lý ấy không bao giờ thay đổi. (HỒ CHÍ MINH, 1890 – 1969)”\n",
    "\n",
    "Yêu cầu: \n",
    "1. Cho biết số ký tự có trong đoạn văn trên.\n",
    "2. Cho biết trong đoạn có chứa từ nào sau đây không (Không phân biệt chữ hoa, chữ thường)?\n",
    "    * “hồ chí minh”\n",
    "    * “non sông”\n",
    "3. Tách đoạn văn thành các câu bởi dấu .\n",
    "4. Cho biết trong đoạn văn trên có ký tự nào khác ký tự chữ và số hay không?\n",
    "5. Thay thế các các từ ‘Việt Nam’ bằng ‘VIỆT NAM’ trong đoạn văn trên.\n"
   ]
  },
  {
   "cell_type": "code",
   "execution_count": 15,
   "metadata": {},
   "outputs": [
    {
     "name": "stdout",
     "output_type": "stream",
     "text": [
      "Nước Việt Nam là một, dân tộc Việt Nam là một. Sông có thể cạn núi có thể mòn, song chân lý ấy không bao giờ thay đổi. ( HỒ CHÍ MINH, 1890 - 1969)\n"
     ]
    }
   ],
   "source": [
    "#{HỌC VIÊN VIẾT CODE Ở ĐÂY!}\n",
    "str = \"Nước Việt Nam là một, dân tộc Việt Nam là một. Sông có thể cạn núi có thể mòn, song chân lý ấy không bao giờ thay đổi. ( HỒ CHÍ MINH, 1890 - 1969)\"\n",
    "print(str)"
   ]
  },
  {
   "cell_type": "markdown",
   "metadata": {},
   "source": [
    "#### Câu 1:"
   ]
  },
  {
   "cell_type": "code",
   "execution_count": 16,
   "metadata": {},
   "outputs": [
    {
     "name": "stdout",
     "output_type": "stream",
     "text": [
      "Số ký tự trong đoạn văn trên là:  146 (ký tự)\n"
     ]
    }
   ],
   "source": [
    "# Cho số ký tự trong đoạn văn trên\n",
    "print('Số ký tự trong đoạn văn trên là: ', len(str), '(ký tự)' )"
   ]
  },
  {
   "cell_type": "markdown",
   "metadata": {},
   "source": [
    "#### Câu 2:\n",
    "##### Cách 1:"
   ]
  },
  {
   "cell_type": "code",
   "execution_count": 19,
   "metadata": {},
   "outputs": [
    {
     "name": "stdout",
     "output_type": "stream",
     "text": [
      "Nước Việt Nam là một, dân tộc Việt Nam là một. Sông có thể cạn núi có thể mòn, song chân lý ấy không bao giờ thay đổi. ( HỒ CHÍ MINH, 1890 - 1969)\n",
      "\n",
      "Đoạn văn trên có chứa từ \"hồ chí minh \" đúng hay sai:  True\n"
     ]
    }
   ],
   "source": [
    "# Cho biết đoạn văn có chứa từ \"hồ chí minh\" không?\n",
    "str1 = str.lower()\n",
    "print(str)\n",
    "print('\\nĐoạn văn trên có chứa từ \\\"hồ chí minh \\\" đúng hay sai: ',\"hồ chí minh\" in str1)"
   ]
  },
  {
   "cell_type": "code",
   "execution_count": 21,
   "metadata": {},
   "outputs": [
    {
     "name": "stdout",
     "output_type": "stream",
     "text": [
      "Nước Việt Nam là một, dân tộc Việt Nam là một. Sông có thể cạn núi có thể mòn, song chân lý ấy không bao giờ thay đổi. ( HỒ CHÍ MINH, 1890 - 1969)\n",
      "\n",
      "Đoạn văn trên có chứa từ \"non sông\" đúng hay sai:  False\n"
     ]
    }
   ],
   "source": [
    "# Cho biết đoạn văn co chứa từ \"non sông\" không?\n",
    "print(str)\n",
    "print('\\nĐoạn văn trên có chứa từ \\\"non sông\\\" đúng hay sai: ',\"non sông\" in str1)\n"
   ]
  },
  {
   "cell_type": "markdown",
   "metadata": {},
   "source": [
    "##### Cách 2:"
   ]
  },
  {
   "cell_type": "code",
   "execution_count": 26,
   "metadata": {},
   "outputs": [
    {
     "name": "stdout",
     "output_type": "stream",
     "text": [
      "Nước Việt Nam là một, dân tộc Việt Nam là một. Sông có thể cạn núi có thể mòn, song chân lý ấy không bao giờ thay đổi. ( HỒ CHÍ MINH, 1890 - 1969)\n",
      "Nhập từ muốn tìm: nước việt nam là một\n",
      "\n",
      "Đoạn văn trên có chứa từ \" nước việt nam là một \" đúng hay sai:  True\n"
     ]
    }
   ],
   "source": [
    "print(str)\n",
    "find_word = input('Nhập từ muốn tìm: ')\n",
    "print('\\nĐoạn văn trên có chứa từ \\\"',find_word,'\\\" đúng hay sai: ',find_word in str1)\n"
   ]
  },
  {
   "cell_type": "markdown",
   "metadata": {},
   "source": [
    "#### Câu 3:"
   ]
  },
  {
   "cell_type": "code",
   "execution_count": 33,
   "metadata": {},
   "outputs": [
    {
     "name": "stdout",
     "output_type": "stream",
     "text": [
      "Nước Việt Nam là một, dân tộc Việt Nam là một. Sông có thể cạn núi có thể mòn, song chân lý ấy không bao giờ thay đổi. ( HỒ CHÍ MINH, 1890 - 1969)\n",
      "\n",
      "--- Đoạn văn sau khi tách ---\n",
      "['Nước Việt Nam là một, dân tộc Việt Nam là một', ' Sông có thể cạn núi có thể mòn, song chân lý ấy không bao giờ thay đổi', ' ( HỒ CHÍ MINH, 1890 - 1969)']\n"
     ]
    }
   ],
   "source": [
    "# Tách đoạn văn thành các câu bởi dấu .\n",
    "print(str)\n",
    "print('\\n--- Đoạn văn sau khi tách ---')\n",
    "print(str.split('.'))"
   ]
  },
  {
   "cell_type": "markdown",
   "metadata": {},
   "source": [
    "#### Câu 4:\n"
   ]
  },
  {
   "cell_type": "code",
   "execution_count": 38,
   "metadata": {},
   "outputs": [
    {
     "name": "stdout",
     "output_type": "stream",
     "text": [
      "Nước Việt Nam là một, dân tộc Việt Nam là một. Sông có thể cạn núi có thể mòn, song chân lý ấy không bao giờ thay đổi. ( HỒ CHÍ MINH, 1890 - 1969)\n",
      "\n",
      "Đoạn văn trên có ký tự nào khác ký tự chữ không?\t False\n",
      "Đoạn văn trên có ký tự nào khác ký tự số không? \t False\n"
     ]
    }
   ],
   "source": [
    "#Cho biết trong đoạn văn trên có ký tự nào khác ký tự chữ và số hay không?\n",
    "print(str)\n",
    "print('\\nĐoạn văn trên có ký tự nào khác ký tự chữ không?\\t',str.isalpha())\n",
    "print('Đoạn văn trên có ký tự nào khác ký tự số không? \\t', str.isdigit())"
   ]
  },
  {
   "cell_type": "markdown",
   "metadata": {},
   "source": [
    "#### Câu 5:"
   ]
  },
  {
   "cell_type": "code",
   "execution_count": 41,
   "metadata": {},
   "outputs": [
    {
     "name": "stdout",
     "output_type": "stream",
     "text": [
      "Nước Việt Nam là một, dân tộc Việt Nam là một. Sông có thể cạn núi có thể mòn, song chân lý ấy không bao giờ thay đổi. ( HỒ CHÍ MINH, 1890 - 1969)\n",
      "\n",
      "--- Đoạn văn sau khi thay thế 'Việt Nam' thành 'VIỆT NAM' ---\n",
      "\n",
      " Nước VIỆT NAM là một, dân tộc VIỆT NAM là một. Sông có thể cạn núi có thể mòn, song chân lý ấy không bao giờ thay đổi. ( HỒ CHÍ MINH, 1890 - 1969)\n"
     ]
    }
   ],
   "source": [
    "#Thay thế các các từ ‘Việt Nam’ bằng ‘VIỆT NAM’ trong đoạn văn trên.\n",
    "print(str)\n",
    "print('\\n--- Đoạn văn sau khi thay thế \\'Việt Nam\\' thành \\'VIỆT NAM\\' ---\\n\\n', str.replace('Việt Nam','VIỆT NAM'))\n",
    "      "
   ]
  },
  {
   "cell_type": "markdown",
   "metadata": {},
   "source": [
    "## Bài 5: Chuẩn hóa chuỗi:\n",
    "---\n",
    "Chuỗi st ban đầu: s = '   python FOR Machine LearNiNg      '\n",
    "\n",
    "**Yêu cầu:** \n",
    "1. Chuẩn hóa chuỗi về chuỗi s1: Loại bỏ hết khoảng trắng ở đầu và cuối chuỗi , thêm ký tự ‘!’ ở cuối câu. chuyển hết về chữ thường và viết hoa ký tự đầu tiên trong mỗi từ: **'Python For Machine Learning!’**\n",
    "\n",
    "2. Chuẩn hóa chuỗi về chuỗi s2: Loại bỏ hết khoảng trắng ở đầu và cuối chuỗi, chuyển toàn bộ sang chữ hoa và nối các từ bằng dấu ‘-’: **‘PYTHON-FOR-MACHINE-LEARNING'**"
   ]
  },
  {
   "cell_type": "code",
   "execution_count": 42,
   "metadata": {},
   "outputs": [
    {
     "name": "stdout",
     "output_type": "stream",
     "text": [
      "python FOR Machine LearNiNg\n"
     ]
    }
   ],
   "source": [
    "#{HỌC VIÊN VIẾT CODE Ở ĐÂY!}\n",
    "st = \"  python FOR Machine LearNiNg\"\n",
    "print(st)\n",
    "\n",
    "\n",
    "\n"
   ]
  },
  {
   "cell_type": "markdown",
   "metadata": {},
   "source": [
    "#### Câu 1:"
   ]
  },
  {
   "cell_type": "code",
   "execution_count": 64,
   "metadata": {},
   "outputs": [
    {
     "name": "stdout",
     "output_type": "stream",
     "text": [
      "python FOR Machine LearNiNg\n"
     ]
    }
   ],
   "source": [
    "# Chuẩn hóa về chuỗi s1: Loại bỏ khoảng trắng ở đầu chuỗi và cuối chuỗi\n",
    "s1=st.strip()\n",
    "print(s1)\n"
   ]
  },
  {
   "cell_type": "code",
   "execution_count": 52,
   "metadata": {},
   "outputs": [
    {
     "name": "stdout",
     "output_type": "stream",
     "text": [
      "python FOR Machine LearNiNg!\n"
     ]
    }
   ],
   "source": [
    "#thêm ! ở cuối câu\n",
    "s1=st+\"!\"\n",
    "print(s1)"
   ]
  },
  {
   "cell_type": "code",
   "execution_count": 63,
   "metadata": {},
   "outputs": [
    {
     "name": "stdout",
     "output_type": "stream",
     "text": [
      "--- viết thường ---\n",
      "\t python for machine learning\n",
      "\n",
      "--- Viết Hoa Chữ Cái Đầu ---\n",
      "\t Python For Machine Learning\n"
     ]
    }
   ],
   "source": [
    "\n",
    "print('--- viết thường ---\\n\\t', s1.lower())\n",
    "print('\\n--- Viết Hoa Chữ Cái Đầu ---\\n\\t', s1.title())"
   ]
  },
  {
   "cell_type": "markdown",
   "metadata": {},
   "source": [
    "#### Câu 2:"
   ]
  },
  {
   "cell_type": "code",
   "execution_count": 68,
   "metadata": {},
   "outputs": [
    {
     "name": "stdout",
     "output_type": "stream",
     "text": [
      "Loại bỏ khoảng trắng ở đầu và cuối chuỗi\n",
      "\t-----------\n",
      " python FOR Machine LearNiNg\n"
     ]
    }
   ],
   "source": [
    "#Loại bỏ khoảng trắng ở đầu và cuối chuỗi\n",
    "s2=st.strip()\n",
    "print('Loại bỏ khoảng trắng ở đầu và cuối chuỗi\\n\\t-----------\\n',s2)"
   ]
  },
  {
   "cell_type": "code",
   "execution_count": 73,
   "metadata": {},
   "outputs": [
    {
     "name": "stdout",
     "output_type": "stream",
     "text": [
      "PYTHON-FOR-MACHINE-LEARNING\n"
     ]
    }
   ],
   "source": [
    "#chuyển toàn bộ sang chữ hoa và nối các từ bằng dấu ‘-’\n",
    "s2='-'.join(st.split( )).upper()\n",
    "print(s2)\n",
    "\n"
   ]
  },
  {
   "cell_type": "markdown",
   "metadata": {},
   "source": [
    "# THỰC HÀNH\n",
    "---"
   ]
  },
  {
   "cell_type": "markdown",
   "metadata": {},
   "source": [
    "## Bài 5: Thống kê điểm Học viên\n",
    "---\n",
    "\n",
    "Khởi tạo một danh sách gồm các điểm thi môn “Python for Analysis” của lớp VIN_01 (Điểm chữ: A, B, C, D, F)\n",
    "\n",
    "Point_VIN = ['A','B','B','D','A','A','F','B','A','C','F','D','B']\n",
    "\n",
    "**Yêu cầu:** \n",
    "1. Cho biết số sinh viên trong lớp\n",
    "2. Có bao nhiêu sinh viên phải học lại môn này (điểm F).\n",
    "3. Có bao nhiêu sinh viên có điểm từ B trở lên.\n",
    "4. Sinh viên đầu tiên và cuối cùng trong lớp đã nghỉ học, tạo một bảng điểm mới và loại bỏ điểm của các sinh viên này ra "
   ]
  },
  {
   "cell_type": "code",
   "execution_count": null,
   "metadata": {},
   "outputs": [],
   "source": [
    "#{HỌC VIÊN VIẾT CODE Ở ĐÂY!}\n",
    "\n",
    "Point_VIN = ['A','B','B','D','A','A','F','B','A','C','F','D','B']\n",
    "\n",
    "\n",
    "\n"
   ]
  },
  {
   "cell_type": "markdown",
   "metadata": {},
   "source": [
    "#### Câu 1:"
   ]
  },
  {
   "cell_type": "code",
   "execution_count": 5,
   "metadata": {},
   "outputs": [
    {
     "name": "stdout",
     "output_type": "stream",
     "text": [
      "13\n"
     ]
    }
   ],
   "source": [
    "#Có bao nhiêu sinh viên trong lớp\n",
    "Point_VIN = ['A','B','B','D','A','A','F','B','A','C','F','D','B']\n",
    "print(len(Point_VIN))\n"
   ]
  },
  {
   "cell_type": "markdown",
   "metadata": {},
   "source": [
    "#### Câu 2:"
   ]
  },
  {
   "cell_type": "code",
   "execution_count": 21,
   "metadata": {},
   "outputs": [
    {
     "name": "stdout",
     "output_type": "stream",
     "text": [
      "Số sinh viên phải học lại là:  2 (sinh viên)\n"
     ]
    }
   ],
   "source": [
    "#Có bao nhiêu sinh viên phải học lại môn này (điểm F).\n",
    "Point_VIN = ['A','B','B','D','A','A','F','B','A','C','F','D','B']\n",
    "print('Số sinh viên phải học lại là: ',Point_VIN.count('F'),'(sinh viên)')"
   ]
  },
  {
   "cell_type": "markdown",
   "metadata": {},
   "source": [
    "#### Câu 3:"
   ]
  },
  {
   "cell_type": "code",
   "execution_count": 24,
   "metadata": {},
   "outputs": [
    {
     "name": "stdout",
     "output_type": "stream",
     "text": [
      "Số sinh viên có điểm B trở lên là:  8\n"
     ]
    }
   ],
   "source": [
    "#Có bao nhiêu sinh viên có điểm từ B trở lên.\n",
    "Point_VIN = ['A','B','B','D','A','A','F','B','A','C','F','D','B']\n",
    "tong_sv=Point_VIN.count('A')+Point_VIN.count('B')\n",
    "print('Số sinh viên có điểm B trở lên là: ',tong_sv)"
   ]
  },
  {
   "cell_type": "markdown",
   "metadata": {},
   "source": [
    "#### Câu 4:"
   ]
  },
  {
   "cell_type": "code",
   "execution_count": 30,
   "metadata": {},
   "outputs": [
    {
     "name": "stdout",
     "output_type": "stream",
     "text": [
      "Danh sách sau khi xóa là:  ['B', 'B', 'D', 'A', 'A', 'F', 'B', 'A', 'C', 'F', 'D']\n"
     ]
    }
   ],
   "source": [
    "#Sinh viên đầu tiên và cuối cùng trong lớp đã nghỉ học, tạo một bảng điểm mới và loại bỏ điểm của các sinh viên này ra\n",
    "Point_VIN = ['A','B','B','D','A','A','F','B','A','C','F','D','B']\n",
    "xoa_dau=Point_VIN.pop(0)\n",
    "xoa_cuoi=Point_VIN.pop()\n",
    "print('Danh sách sau khi xóa là: ',Point_VIN)"
   ]
  },
  {
   "cell_type": "code",
   "execution_count": null,
   "metadata": {},
   "outputs": [],
   "source": []
  }
 ],
 "metadata": {
  "kernelspec": {
   "display_name": "Python 3 (ipykernel)",
   "language": "python",
   "name": "python3"
  },
  "language_info": {
   "codemirror_mode": {
    "name": "ipython",
    "version": 3
   },
   "file_extension": ".py",
   "mimetype": "text/x-python",
   "name": "python",
   "nbconvert_exporter": "python",
   "pygments_lexer": "ipython3",
   "version": "3.9.12"
  }
 },
 "nbformat": 4,
 "nbformat_minor": 2
}
