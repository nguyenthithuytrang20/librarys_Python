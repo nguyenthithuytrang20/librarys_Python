{
 "cells": [
  {
   "cell_type": "markdown",
   "metadata": {},
   "source": [
    "<center>\n",
    "    <img src='Pic/logo.png' width='300px'>\n",
    "    <h1>MÔN HỌC: KHOA HỌC DỮ LIỆU (7080509)</h1>\n",
    "    <h2>Chương 3: Lập Trình Python Cơ bản (Phần 3)</h2>\n",
    "</center>\n",
    "\n",
    "---\n",
    "**NỘI DUNG BÀI HỌC:**\n",
    "1. Hàm trong Python\n",
    "    * a. Giới thiệu Hàm | Xây dựng hàm trong Python\n",
    "    * b. Return | Tham số của hàm |Phạm vi của biến\n",
    "    * c. Hàm ẩn danh (Lambda)\n",
    "2. Lớp và đối tượng trong Python\n",
    "\t* a. Tạo lớp – đối tượng | Truy cập phương thức, thuộc tính của đối tượng\n",
    "\t* b. Thừa kế\n",
    "---\n",
    "*Copyright: Nguyễn Thị Thùy Trang - 2021050885 - DCCTHT65B*\n"
   ]
  },
  {
   "cell_type": "markdown",
   "metadata": {},
   "source": [
    "# THỰC HÀNH:\n",
    "---\n",
    "## BÀI 14: Viết hàm cho các bài đã thực hiện\n",
    "1. Viết hàm greeting(): Trả về câu chào với tham số truyền vào là chuỗi họ tên và năm sinh (Xem lại bài tập số 2)\n",
    "2. Viết hàm rabbit_count(): tính số thỏ trong rừng khi truyền vào số tháng (Xem lại bài tập số 3)\n",
    "3. Viết hàm count_mark(): trả về số sinh viên học lại và tổng số sinh viên trong lớp với tham số truyền vào là một danh sách bảng điểm (Xem lại bài tập số 5 ý 1, 2)\n",
    "4. Viết hàm bmi_show(): Trả về nhận xét dựa vào chỉ số BMI đã tính với 2 tham số truyền vào là chiều cao, cân nặng (Xem lại bài tập số 7)\n",
    "5. Viết hàm cal_point(): Trả về điểm trung bình hệ 10 và hệ 4 của một học sinh khi truyền vào danh sách điểm (Xem lại bài tập số 10 ý 2)\n",
    "6. Viết hàm list_prime(): trả danh sách các số nguyên tố trong khoảng tử 1 đến n với tham số truyền vào là n (Xem lại bài tập số 12)"
   ]
  },
  {
   "cell_type": "markdown",
   "metadata": {},
   "source": [
    "### Câu 6"
   ]
  },
  {
   "cell_type": "code",
   "execution_count": 16,
   "metadata": {},
   "outputs": [],
   "source": [
    "def list_prime():\n",
    "    n=int(input('nhập vào một số N: '))\n",
    "    for i in range (2,n):\n",
    "        flag = True\n",
    "        if (i < 2):\n",
    "            flag = False\n",
    "        elif (i == 2):\n",
    "            flag = True\n",
    "        elif (i % 2 == 0):\n",
    "            flag = False\n",
    "        else:\n",
    "            for j in range(3, i, 2):\n",
    "                if (i % j == 0):\n",
    "                    flag = False\n",
    "        if flag == True:\n",
    "            print(i)"
   ]
  },
  {
   "cell_type": "code",
   "execution_count": 17,
   "metadata": {},
   "outputs": [
    {
     "name": "stdout",
     "output_type": "stream",
     "text": [
      "nhập vào một số N: 4\n",
      "2\n",
      "3\n"
     ]
    }
   ],
   "source": [
    "list_prime()"
   ]
  },
  {
   "cell_type": "markdown",
   "metadata": {},
   "source": [
    "### Câu 5"
   ]
  },
  {
   "cell_type": "code",
   "execution_count": 14,
   "metadata": {},
   "outputs": [],
   "source": [
    "def cal_point(dh10=[]):\n",
    "    dhe4=[]\n",
    "    for i in dh10:\n",
    "        if(0<=i<4):\n",
    "            diemhe4=float ('0')\n",
    "            #dhe4.append(diemhe4)\n",
    "        elif(4 <= i <= 4.9):\n",
    "            diemhe4=float ('1')\n",
    "            #dhe4.append(diemhe4)\n",
    "        elif(5 <= i <=5.4):\n",
    "            diemhe4=float ('1.5')\n",
    "            #dhe4.append(diemhe4)\n",
    "        elif(5.5 <= i <= 6.4):\n",
    "            diemhe4=float ('2')\n",
    "            #dhe4.append(diemhe4)\n",
    "        elif(6.5 <= i <= 6.9):\n",
    "            diemhe4=float(' 2.5')\n",
    "            #dhe4.append(diemhe4)\n",
    "        elif(7 <= i <= 7.9):\n",
    "            diemhe4=float ('3')\n",
    "            #dhe4.append(diemhe4)\n",
    "        elif(8 <= i <= 8.4):\n",
    "            diemhe4=float(' 3.5')\n",
    "            #dhe4.append(diemhe4)\n",
    "        elif(8.4 <= i <= 8.9):\n",
    "            diemhe4=float(' 3.7')\n",
    "            #dhe4.append(diemhe4)\n",
    "        elif(9.0 <= i <= 10):\n",
    "            diemhe4=float ('4')\n",
    "            #dhe4.append(diemhe4)\n",
    "        else:\n",
    "            pritn('Điểm không hợp lệ!')\n",
    "        dhe4.append(diemhe4)\n",
    "    print('Điểm hệ 10:',dh10)\n",
    "    print('Điểm hệ 4: ',dhe4)\n",
    "    print('------Điểm trung bình------')\n",
    "    tb=0\n",
    "    for i in ds_diem:\n",
    "        tb+=i\n",
    "    print('Điểm trung bình hệ 10:',tb/len(dh10))\n",
    "    print('Điểm trung bình hệ 4:',tb/len(dhe4)*4/10)\n",
    "    "
   ]
  },
  {
   "cell_type": "code",
   "execution_count": 15,
   "metadata": {},
   "outputs": [
    {
     "name": "stdout",
     "output_type": "stream",
     "text": [
      "Số lượng điểm cần nhập:3\n",
      "điểm: 7\n",
      "điểm: 8\n",
      "điểm: 9\n",
      "Điểm hệ 10: [7.0, 8.0, 9.0]\n",
      "Điểm hệ 4:  [3.0, 3.5, 4.0]\n",
      "------Điểm trung bình------\n",
      "Điểm trung bình hệ 10: 8.0\n",
      "Điểm trung bình hệ 4: 3.2\n"
     ]
    }
   ],
   "source": [
    "ds_diem=[]\n",
    "so_luong=int(input('Số lượng điểm cần nhập:'))\n",
    "for i in range(0,so_luong):\n",
    "    diem=float(input('điểm: '))\n",
    "    ds_diem.append(diem)\n",
    "#print(ds_diem)\n",
    "cal_point(ds_diem)"
   ]
  },
  {
   "cell_type": "markdown",
   "metadata": {},
   "source": [
    "### Câu 3"
   ]
  },
  {
   "cell_type": "code",
   "execution_count": 14,
   "metadata": {},
   "outputs": [],
   "source": [
    "def count_mark(list_mark=[]):\n",
    "    dem=0\n",
    "    print('Tổng số sinh viên là:',len(list_mark))\n",
    "    for j in list_mark:\n",
    "        if(j<4):\n",
    "            dem+=1\n",
    "    print('Số lượng sinh viên phải học lại là',dem)\n",
    "    #print('Số lượng sinh viên phải học lại là',list_mark.count('4'or'3'or'2'or'1'or'0'),'sinh viên')\n",
    "    "
   ]
  },
  {
   "cell_type": "code",
   "execution_count": 16,
   "metadata": {},
   "outputs": [
    {
     "name": "stdout",
     "output_type": "stream",
     "text": [
      "Số lượng điểm cần nhập:4\n",
      "điểm: 7\n",
      "[7.0]\n",
      "điểm: 1.2\n",
      "[7.0, 1.2]\n",
      "điểm: 5\n",
      "[7.0, 1.2, 5.0]\n",
      "điểm: 2\n",
      "[7.0, 1.2, 5.0, 2.0]\n",
      "Tổng số sinh viên là: 4\n",
      "Số lượng sinh viên phải học lại là 2\n"
     ]
    }
   ],
   "source": [
    "ds_diem=[]\n",
    "so_luong=int(input('Số lượng điểm cần nhập:'))\n",
    "for i in range(0,so_luong):\n",
    "    diem=float(input('điểm: '))\n",
    "    ds_diem.append(diem)\n",
    "    print(ds_diem)    \n",
    "count_mark(ds_diem)\n"
   ]
  },
  {
   "cell_type": "markdown",
   "metadata": {},
   "source": [
    "### Câu 2\n"
   ]
  },
  {
   "cell_type": "code",
   "execution_count": 30,
   "metadata": {},
   "outputs": [],
   "source": [
    "# câu 14.2\n",
    "\n",
    "def rabbit_count(month):\n",
    "        so_tho = 2**(month +1)\n",
    "        print('Sau ', month,' số thỏ trong rừng là',so_tho, 'con')"
   ]
  },
  {
   "cell_type": "code",
   "execution_count": 34,
   "metadata": {},
   "outputs": [
    {
     "name": "stdout",
     "output_type": "stream",
     "text": [
      "Nhập vào số tháng:12\n",
      "Sau  12  số thỏ trong rừng là 8192 con\n"
     ]
    }
   ],
   "source": [
    "month=int(input('Nhập vào số tháng:'))\n",
    "rabbit_count(month)"
   ]
  },
  {
   "cell_type": "markdown",
   "metadata": {},
   "source": [
    "### Câu 1"
   ]
  },
  {
   "cell_type": "code",
   "execution_count": 4,
   "metadata": {},
   "outputs": [],
   "source": [
    "# Câu 14.1\n",
    "\n",
    "def greeting(name='Nguyễn Thị Thùy Trang', age='20'):\n",
    "    print('Hellow', name,' tuổi của bạn là',age,'tuổi')"
   ]
  },
  {
   "cell_type": "code",
   "execution_count": 11,
   "metadata": {},
   "outputs": [
    {
     "name": "stdout",
     "output_type": "stream",
     "text": [
      "Nhập tên của bạn:nguyen thuy\n",
      "Nhập tuổi của bạn: 55\n",
      "Hellow NGUYEN THUY  tuổi của bạn là 55 tuổi\n",
      "Hellow Nguyễn Thị Thùy Trang  tuổi của bạn là 20 tuổi\n"
     ]
    }
   ],
   "source": [
    "name=input('Nhập tên của bạn:')\n",
    "age=input('Nhập tuổi của bạn: ')\n",
    "greeting(name.upper(),age)"
   ]
  },
  {
   "cell_type": "markdown",
   "metadata": {},
   "source": [
    "### Câu 4"
   ]
  },
  {
   "cell_type": "code",
   "execution_count": 10,
   "metadata": {},
   "outputs": [],
   "source": [
    "#{HỌC VIÊN VIẾT CODE Ở ĐÂY}\n",
    "# câu 14.4 viết hàm bmi\n",
    "def BMI_show(w=48,h=1.64):\n",
    "    bmi=round(w/h**2,1)\n",
    "    print('BMI:',bmi)\n",
    "    if (bmi<18.5):\n",
    "        label='underweight'\n",
    "    elif (18.5<=bmi<=24.9):\n",
    "        label='normal weight'\n",
    "    elif (25<=bmi<=29.9):\n",
    "        label=' over weight'\n",
    "    else:\n",
    "        label='Obese'\n",
    "    return bmi, label\n",
    "\n",
    "\n",
    "\n",
    "\n"
   ]
  },
  {
   "cell_type": "code",
   "execution_count": 9,
   "metadata": {},
   "outputs": [
    {
     "name": "stdout",
     "output_type": "stream",
     "text": [
      "Nhập chiều cao cảu bạn[m]: 1.64\n",
      "Nhập cân nặng cảu bạn[kg]: 47\n",
      "BMI: 17.5\n",
      "chỉ số BMI của bạn là: 17.5 bạn ở mức: underweight\n"
     ]
    }
   ],
   "source": [
    "h=float(input('Nhập chiều cao cảu bạn[m]: '))\n",
    "w=float(input('Nhập cân nặng cảu bạn[kg]: '))\n",
    "a,b=BMI_show(w,h)\n",
    "print('chỉ số BMI của bạn là:',a,'bạn ở mức:',b)"
   ]
  },
  {
   "cell_type": "code",
   "execution_count": null,
   "metadata": {},
   "outputs": [],
   "source": []
  },
  {
   "cell_type": "markdown",
   "metadata": {},
   "source": [
    "# THỰC HÀNH:\n",
    "---\n",
    "## BÀI 15: Xây dựng lớp Person:\n",
    "1. Gồm các Thuộc tính: \n",
    "    * họ tên (name), năm sinh (year), chiều cao height), cân nặng (weight)\n",
    "    * Giá trị mặc định của các thuộc tính là thông tin của bạn\n",
    "\n",
    "2. Gồm các Phương thức: \n",
    "    * Geeting(): Hiển thị thông tin của Person\n",
    "    * BMI(): Tính toán theo chỉ số BMI của Person\n"
   ]
  },
  {
   "cell_type": "code",
   "execution_count": 18,
   "metadata": {},
   "outputs": [],
   "source": [
    "class Person():\n",
    "    def __init__(self, name, year, weight, height):\n",
    "        self.name= name\n",
    "        self.year= year\n",
    "        self.weight= weight\n",
    "        self.height = height\n",
    "    def Geeting(self):\n",
    "        print (\"Name: \", self.name)\n",
    "        print (\"Born: \", self.year)\n",
    "        print (\"Weight: \", self.weight,\"kg\")\n",
    "        print (\"Height: \", self.height,\"m\")\n",
    "    def BMI(self):\n",
    "        BMI = self.weight/(self.height**2)\n",
    "        print(\"BMI: \",BMI)"
   ]
  },
  {
   "cell_type": "code",
   "execution_count": 19,
   "metadata": {},
   "outputs": [
    {
     "name": "stdout",
     "output_type": "stream",
     "text": [
      "Name:  Nguyễn Thị Thùy Trang\n",
      "Born:  2002\n",
      "Weight:  47 kg\n",
      "Height:  1.64 m\n",
      "BMI:  17.474717430101133\n"
     ]
    }
   ],
   "source": [
    "duc = Person(\"Nguyễn Thị Thùy Trang\",2002,47,1.64)\n",
    "duc.Geeting()\n",
    "duc.BMI()"
   ]
  },
  {
   "cell_type": "code",
   "execution_count": null,
   "metadata": {},
   "outputs": [],
   "source": []
  },
  {
   "cell_type": "code",
   "execution_count": null,
   "metadata": {},
   "outputs": [],
   "source": []
  },
  {
   "cell_type": "code",
   "execution_count": null,
   "metadata": {},
   "outputs": [],
   "source": []
  },
  {
   "cell_type": "code",
   "execution_count": null,
   "metadata": {},
   "outputs": [],
   "source": []
  },
  {
   "cell_type": "code",
   "execution_count": null,
   "metadata": {},
   "outputs": [],
   "source": []
  },
  {
   "cell_type": "markdown",
   "metadata": {},
   "source": [
    "**2. Xây dựng lớp Vietnam, kế thừa từ lớp Person:**\n",
    "* Kế thừa tất cả các thuộc tính của lớp Person và Bổ sung thêm Thuộc tính: \n",
    "Dân tộc (nation), giá trịnh mặc định là “Kinh”\n",
    "* Kế thừa phương thức BMI của lớp Person và  cập nhật lại Phương thức Geeting() (Method overriding): \n",
    "\n",
    "Ví dụ Geeting(): \n",
    "\n",
    "Tôi tên là:  Thanh Huyền - Dân tộc: Tày\n",
    "\n",
    "Tôi sinh năm  2000 . Rất vui được làm quyen với bạn!"
   ]
  },
  {
   "cell_type": "code",
   "execution_count": 20,
   "metadata": {},
   "outputs": [],
   "source": [
    "#{HỌC VIÊN VIẾT CODE Ở ĐÂY}\n",
    "class Person():\n",
    "    def __init__(self, name, year, weight, height):\n",
    "        self.name= name\n",
    "        self.year= year\n",
    "        self.weight= weight\n",
    "        self.height = height\n",
    "    def BMI(self):\n",
    "        BMI = self.weight/(self.height**2)\n",
    "        print(\"BMI: \",BMI)\n",
    "\n",
    "class Vietnam(Person):\n",
    "    def __init__(self, name, year, weight, height, nation):\n",
    "        super().__init__(name, year, weight, height)\n",
    "        self.nation = nation\n",
    "    def Geetingoverriding(self):\n",
    "        print(\"Tôi tên là: \",self.name + \"-\",\"Dân tộc: \",self.nation)\n",
    "        print(\"Tôi sinh năm: \",self.year ,\". Rất vui được làm quen với bạn!\")\n",
    "\n",
    "\n",
    "\n",
    "\n"
   ]
  },
  {
   "cell_type": "code",
   "execution_count": 21,
   "metadata": {},
   "outputs": [
    {
     "name": "stdout",
     "output_type": "stream",
     "text": [
      "Tôi tên là:  Trang- Dân tộc:  Kinh\n",
      "Tôi sinh năm:  2002 . Rất vui được làm quen với bạn!\n"
     ]
    }
   ],
   "source": [
    "duc = Vietnam(\"Trang\",2002,47,1.64,\"Kinh\")\n",
    "duc.Geetingoverriding()"
   ]
  },
  {
   "cell_type": "code",
   "execution_count": null,
   "metadata": {},
   "outputs": [],
   "source": []
  }
 ],
 "metadata": {
  "kernelspec": {
   "display_name": "Python 3 (ipykernel)",
   "language": "python",
   "name": "python3"
  },
  "language_info": {
   "codemirror_mode": {
    "name": "ipython",
    "version": 3
   },
   "file_extension": ".py",
   "mimetype": "text/x-python",
   "name": "python",
   "nbconvert_exporter": "python",
   "pygments_lexer": "ipython3",
   "version": "3.9.12"
  }
 },
 "nbformat": 4,
 "nbformat_minor": 2
}
